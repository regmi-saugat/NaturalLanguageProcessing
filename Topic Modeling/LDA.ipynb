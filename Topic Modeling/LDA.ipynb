{
 "cells": [
  {
   "cell_type": "code",
   "execution_count": 1,
   "id": "632416f2",
   "metadata": {},
   "outputs": [
    {
     "name": "stderr",
     "output_type": "stream",
     "text": [
      "2023-04-14 10:52:49.933574: I tensorflow/core/platform/cpu_feature_guard.cc:182] This TensorFlow binary is optimized to use available CPU instructions in performance-critical operations.\n",
      "To enable the following instructions: AVX2 FMA, in other operations, rebuild TensorFlow with the appropriate compiler flags.\n",
      "2023-04-14 10:52:50.752866: W tensorflow/compiler/tf2tensorrt/utils/py_utils.cc:38] TF-TRT Warning: Could not find TensorRT\n"
     ]
    }
   ],
   "source": [
    "import pandas as pd\n",
    "import numpy as np\n",
    "import re\n",
    "import string\n",
    "import gensim\n",
    "from gensim import corpora\n",
    "import seaborn as sns\n",
    "import matplotlib.pyplot as plt\n",
    "%matplotlib inline\n",
    "import spacy"
   ]
  },
  {
   "cell_type": "code",
   "execution_count": 2,
   "id": "fd77b516",
   "metadata": {},
   "outputs": [
    {
     "data": {
      "text/html": [
       "<div>\n",
       "<style scoped>\n",
       "    .dataframe tbody tr th:only-of-type {\n",
       "        vertical-align: middle;\n",
       "    }\n",
       "\n",
       "    .dataframe tbody tr th {\n",
       "        vertical-align: top;\n",
       "    }\n",
       "\n",
       "    .dataframe thead th {\n",
       "        text-align: right;\n",
       "    }\n",
       "</style>\n",
       "<table border=\"1\" class=\"dataframe\">\n",
       "  <thead>\n",
       "    <tr style=\"text-align: right;\">\n",
       "      <th></th>\n",
       "      <th>Id</th>\n",
       "      <th>ProductId</th>\n",
       "      <th>UserId</th>\n",
       "      <th>ProfileName</th>\n",
       "      <th>HelpfulnessNumerator</th>\n",
       "      <th>HelpfulnessDenominator</th>\n",
       "      <th>Score</th>\n",
       "      <th>Time</th>\n",
       "      <th>Summary</th>\n",
       "      <th>Text</th>\n",
       "    </tr>\n",
       "  </thead>\n",
       "  <tbody>\n",
       "    <tr>\n",
       "      <th>0</th>\n",
       "      <td>1</td>\n",
       "      <td>B001E4KFG0</td>\n",
       "      <td>A3SGXH7AUHU8GW</td>\n",
       "      <td>delmartian</td>\n",
       "      <td>1</td>\n",
       "      <td>1</td>\n",
       "      <td>5</td>\n",
       "      <td>1303862400</td>\n",
       "      <td>Good Quality Dog Food</td>\n",
       "      <td>I have bought several of the Vitality canned d...</td>\n",
       "    </tr>\n",
       "    <tr>\n",
       "      <th>1</th>\n",
       "      <td>2</td>\n",
       "      <td>B00813GRG4</td>\n",
       "      <td>A1D87F6ZCVE5NK</td>\n",
       "      <td>dll pa</td>\n",
       "      <td>0</td>\n",
       "      <td>0</td>\n",
       "      <td>1</td>\n",
       "      <td>1346976000</td>\n",
       "      <td>Not as Advertised</td>\n",
       "      <td>Product arrived labeled as Jumbo Salted Peanut...</td>\n",
       "    </tr>\n",
       "    <tr>\n",
       "      <th>2</th>\n",
       "      <td>3</td>\n",
       "      <td>B000LQOCH0</td>\n",
       "      <td>ABXLMWJIXXAIN</td>\n",
       "      <td>Natalia Corres \"Natalia Corres\"</td>\n",
       "      <td>1</td>\n",
       "      <td>1</td>\n",
       "      <td>4</td>\n",
       "      <td>1219017600</td>\n",
       "      <td>\"Delight\" says it all</td>\n",
       "      <td>This is a confection that has been around a fe...</td>\n",
       "    </tr>\n",
       "    <tr>\n",
       "      <th>3</th>\n",
       "      <td>4</td>\n",
       "      <td>B000UA0QIQ</td>\n",
       "      <td>A395BORC6FGVXV</td>\n",
       "      <td>Karl</td>\n",
       "      <td>3</td>\n",
       "      <td>3</td>\n",
       "      <td>2</td>\n",
       "      <td>1307923200</td>\n",
       "      <td>Cough Medicine</td>\n",
       "      <td>If you are looking for the secret ingredient i...</td>\n",
       "    </tr>\n",
       "    <tr>\n",
       "      <th>4</th>\n",
       "      <td>5</td>\n",
       "      <td>B006K2ZZ7K</td>\n",
       "      <td>A1UQRSCLF8GW1T</td>\n",
       "      <td>Michael D. Bigham \"M. Wassir\"</td>\n",
       "      <td>0</td>\n",
       "      <td>0</td>\n",
       "      <td>5</td>\n",
       "      <td>1350777600</td>\n",
       "      <td>Great taffy</td>\n",
       "      <td>Great taffy at a great price.  There was a wid...</td>\n",
       "    </tr>\n",
       "  </tbody>\n",
       "</table>\n",
       "</div>"
      ],
      "text/plain": [
       "   Id   ProductId          UserId                      ProfileName  \\\n",
       "0   1  B001E4KFG0  A3SGXH7AUHU8GW                       delmartian   \n",
       "1   2  B00813GRG4  A1D87F6ZCVE5NK                           dll pa   \n",
       "2   3  B000LQOCH0   ABXLMWJIXXAIN  Natalia Corres \"Natalia Corres\"   \n",
       "3   4  B000UA0QIQ  A395BORC6FGVXV                             Karl   \n",
       "4   5  B006K2ZZ7K  A1UQRSCLF8GW1T    Michael D. Bigham \"M. Wassir\"   \n",
       "\n",
       "   HelpfulnessNumerator  HelpfulnessDenominator  Score        Time  \\\n",
       "0                     1                       1      5  1303862400   \n",
       "1                     0                       0      1  1346976000   \n",
       "2                     1                       1      4  1219017600   \n",
       "3                     3                       3      2  1307923200   \n",
       "4                     0                       0      5  1350777600   \n",
       "\n",
       "                 Summary                                               Text  \n",
       "0  Good Quality Dog Food  I have bought several of the Vitality canned d...  \n",
       "1      Not as Advertised  Product arrived labeled as Jumbo Salted Peanut...  \n",
       "2  \"Delight\" says it all  This is a confection that has been around a fe...  \n",
       "3         Cough Medicine  If you are looking for the secret ingredient i...  \n",
       "4            Great taffy  Great taffy at a great price.  There was a wid...  "
      ]
     },
     "execution_count": 2,
     "metadata": {},
     "output_type": "execute_result"
    }
   ],
   "source": [
    "data = pd.read_csv('Reviews.csv')\n",
    "data.head()"
   ]
  },
  {
   "cell_type": "code",
   "execution_count": 3,
   "id": "491c5883",
   "metadata": {},
   "outputs": [
    {
     "name": "stdout",
     "output_type": "stream",
     "text": [
      "The length of the dataset is:  568454\n"
     ]
    }
   ],
   "source": [
    "print('The length of the dataset is: ', len(data))"
   ]
  },
  {
   "cell_type": "code",
   "execution_count": 4,
   "id": "25446d7d",
   "metadata": {},
   "outputs": [],
   "source": [
    "import pyLDAvis\n",
    "import pyLDAvis.gensim"
   ]
  },
  {
   "cell_type": "code",
   "execution_count": 5,
   "id": "dea95437",
   "metadata": {},
   "outputs": [
    {
     "name": "stdout",
     "output_type": "stream",
     "text": [
      "The number of unique products are:  74258\n",
      "The number of unique users are: 256059\n"
     ]
    }
   ],
   "source": [
    "print('The number of unique products are: ', len(data.groupby('ProductId')))\n",
    "print('The number of unique users are:', len(data.groupby('UserId')))"
   ]
  },
  {
   "cell_type": "code",
   "execution_count": 6,
   "id": "9477af1f",
   "metadata": {},
   "outputs": [],
   "source": [
    "#@ Cleaning the text present in the dataset\n",
    "def clean_text(text):\n",
    "    delete_dict = {sp_character: '' for sp_character in string.punctuation}\n",
    "    delete_dict[' '] = ' '\n",
    "    table = str.maketrans(delete_dict)\n",
    "    text1 = text.translate(table)\n",
    "    textArr = text1.split()\n",
    "    text2 = ' '.join([w for w in textArr if (not w.isdigit() and (not w.isdigit() and len(w)>3))])\n",
    "    return text2.lower()"
   ]
  },
  {
   "cell_type": "code",
   "execution_count": 7,
   "id": "7f09f288",
   "metadata": {},
   "outputs": [],
   "source": [
    "import nltk\n",
    "# nltk.download('stopwords')"
   ]
  },
  {
   "cell_type": "code",
   "execution_count": 8,
   "id": "c5a7e599",
   "metadata": {},
   "outputs": [
    {
     "data": {
      "text/plain": [
       "Id                         0\n",
       "ProductId                  0\n",
       "UserId                     0\n",
       "ProfileName               16\n",
       "HelpfulnessNumerator       0\n",
       "HelpfulnessDenominator     0\n",
       "Score                      0\n",
       "Time                       0\n",
       "Summary                   27\n",
       "Text                       0\n",
       "dtype: int64"
      ]
     },
     "execution_count": 8,
     "metadata": {},
     "output_type": "execute_result"
    }
   ],
   "source": [
    "data.isnull().sum()"
   ]
  },
  {
   "cell_type": "code",
   "execution_count": 9,
   "id": "580a72ef",
   "metadata": {},
   "outputs": [],
   "source": [
    "#@ Let's drop those null values\n",
    "data.dropna(axis=0, how='any', inplace=True)"
   ]
  },
  {
   "cell_type": "code",
   "execution_count": 10,
   "id": "f7fc697c",
   "metadata": {},
   "outputs": [
    {
     "data": {
      "text/plain": [
       "Id                        0\n",
       "ProductId                 0\n",
       "UserId                    0\n",
       "ProfileName               0\n",
       "HelpfulnessNumerator      0\n",
       "HelpfulnessDenominator    0\n",
       "Score                     0\n",
       "Time                      0\n",
       "Summary                   0\n",
       "Text                      0\n",
       "dtype: int64"
      ]
     },
     "execution_count": 10,
     "metadata": {},
     "output_type": "execute_result"
    }
   ],
   "source": [
    "data.isnull().sum()"
   ]
  },
  {
   "cell_type": "code",
   "execution_count": 11,
   "id": "bcee1b7e",
   "metadata": {},
   "outputs": [
    {
     "name": "stdout",
     "output_type": "stream",
     "text": [
      "<class 'pandas.core.frame.DataFrame'>\n",
      "Int64Index: 568411 entries, 0 to 568453\n",
      "Data columns (total 10 columns):\n",
      " #   Column                  Non-Null Count   Dtype \n",
      "---  ------                  --------------   ----- \n",
      " 0   Id                      568411 non-null  int64 \n",
      " 1   ProductId               568411 non-null  object\n",
      " 2   UserId                  568411 non-null  object\n",
      " 3   ProfileName             568411 non-null  object\n",
      " 4   HelpfulnessNumerator    568411 non-null  int64 \n",
      " 5   HelpfulnessDenominator  568411 non-null  int64 \n",
      " 6   Score                   568411 non-null  int64 \n",
      " 7   Time                    568411 non-null  int64 \n",
      " 8   Summary                 568411 non-null  object\n",
      " 9   Text                    568411 non-null  object\n",
      "dtypes: int64(5), object(5)\n",
      "memory usage: 47.7+ MB\n"
     ]
    }
   ],
   "source": [
    "data.info()"
   ]
  },
  {
   "cell_type": "code",
   "execution_count": 12,
   "id": "f2775f33",
   "metadata": {},
   "outputs": [
    {
     "data": {
      "text/html": [
       "<div>\n",
       "<style scoped>\n",
       "    .dataframe tbody tr th:only-of-type {\n",
       "        vertical-align: middle;\n",
       "    }\n",
       "\n",
       "    .dataframe tbody tr th {\n",
       "        vertical-align: top;\n",
       "    }\n",
       "\n",
       "    .dataframe thead th {\n",
       "        text-align: right;\n",
       "    }\n",
       "</style>\n",
       "<table border=\"1\" class=\"dataframe\">\n",
       "  <thead>\n",
       "    <tr style=\"text-align: right;\">\n",
       "      <th></th>\n",
       "      <th>Id</th>\n",
       "      <th>HelpfulnessNumerator</th>\n",
       "      <th>HelpfulnessDenominator</th>\n",
       "      <th>Score</th>\n",
       "      <th>Time</th>\n",
       "    </tr>\n",
       "  </thead>\n",
       "  <tbody>\n",
       "    <tr>\n",
       "      <th>count</th>\n",
       "      <td>568411.000000</td>\n",
       "      <td>568411.000000</td>\n",
       "      <td>568411.000000</td>\n",
       "      <td>568411.000000</td>\n",
       "      <td>5.684110e+05</td>\n",
       "    </tr>\n",
       "    <tr>\n",
       "      <th>mean</th>\n",
       "      <td>284227.440964</td>\n",
       "      <td>1.743874</td>\n",
       "      <td>2.227876</td>\n",
       "      <td>4.183309</td>\n",
       "      <td>1.296261e+09</td>\n",
       "    </tr>\n",
       "    <tr>\n",
       "      <th>std</th>\n",
       "      <td>164099.020907</td>\n",
       "      <td>7.636781</td>\n",
       "      <td>8.288752</td>\n",
       "      <td>1.310368</td>\n",
       "      <td>4.803792e+07</td>\n",
       "    </tr>\n",
       "    <tr>\n",
       "      <th>min</th>\n",
       "      <td>1.000000</td>\n",
       "      <td>0.000000</td>\n",
       "      <td>0.000000</td>\n",
       "      <td>1.000000</td>\n",
       "      <td>9.393408e+08</td>\n",
       "    </tr>\n",
       "    <tr>\n",
       "      <th>25%</th>\n",
       "      <td>142114.500000</td>\n",
       "      <td>0.000000</td>\n",
       "      <td>0.000000</td>\n",
       "      <td>4.000000</td>\n",
       "      <td>1.271290e+09</td>\n",
       "    </tr>\n",
       "    <tr>\n",
       "      <th>50%</th>\n",
       "      <td>284224.000000</td>\n",
       "      <td>0.000000</td>\n",
       "      <td>1.000000</td>\n",
       "      <td>5.000000</td>\n",
       "      <td>1.311120e+09</td>\n",
       "    </tr>\n",
       "    <tr>\n",
       "      <th>75%</th>\n",
       "      <td>426341.500000</td>\n",
       "      <td>2.000000</td>\n",
       "      <td>2.000000</td>\n",
       "      <td>5.000000</td>\n",
       "      <td>1.332720e+09</td>\n",
       "    </tr>\n",
       "    <tr>\n",
       "      <th>max</th>\n",
       "      <td>568454.000000</td>\n",
       "      <td>866.000000</td>\n",
       "      <td>923.000000</td>\n",
       "      <td>5.000000</td>\n",
       "      <td>1.351210e+09</td>\n",
       "    </tr>\n",
       "  </tbody>\n",
       "</table>\n",
       "</div>"
      ],
      "text/plain": [
       "                  Id  HelpfulnessNumerator  HelpfulnessDenominator  \\\n",
       "count  568411.000000         568411.000000           568411.000000   \n",
       "mean   284227.440964              1.743874                2.227876   \n",
       "std    164099.020907              7.636781                8.288752   \n",
       "min         1.000000              0.000000                0.000000   \n",
       "25%    142114.500000              0.000000                0.000000   \n",
       "50%    284224.000000              0.000000                1.000000   \n",
       "75%    426341.500000              2.000000                2.000000   \n",
       "max    568454.000000            866.000000              923.000000   \n",
       "\n",
       "               Score          Time  \n",
       "count  568411.000000  5.684110e+05  \n",
       "mean        4.183309  1.296261e+09  \n",
       "std         1.310368  4.803792e+07  \n",
       "min         1.000000  9.393408e+08  \n",
       "25%         4.000000  1.271290e+09  \n",
       "50%         5.000000  1.311120e+09  \n",
       "75%         5.000000  1.332720e+09  \n",
       "max         5.000000  1.351210e+09  "
      ]
     },
     "execution_count": 12,
     "metadata": {},
     "output_type": "execute_result"
    }
   ],
   "source": [
    "data.describe()"
   ]
  },
  {
   "cell_type": "code",
   "execution_count": 13,
   "id": "1b02d477",
   "metadata": {},
   "outputs": [],
   "source": [
    "#@ Let's clean the text column of the dataset\n",
    "data['Text'] = data['Text'].apply(clean_text)\n",
    "data['Num_words_text'] = data['Text'].apply(lambda x: len(str(x).split()))           # get the total number of text in the words"
   ]
  },
  {
   "cell_type": "code",
   "execution_count": 14,
   "id": "7359c344",
   "metadata": {},
   "outputs": [
    {
     "data": {
      "text/html": [
       "<div>\n",
       "<style scoped>\n",
       "    .dataframe tbody tr th:only-of-type {\n",
       "        vertical-align: middle;\n",
       "    }\n",
       "\n",
       "    .dataframe tbody tr th {\n",
       "        vertical-align: top;\n",
       "    }\n",
       "\n",
       "    .dataframe thead th {\n",
       "        text-align: right;\n",
       "    }\n",
       "</style>\n",
       "<table border=\"1\" class=\"dataframe\">\n",
       "  <thead>\n",
       "    <tr style=\"text-align: right;\">\n",
       "      <th></th>\n",
       "      <th>Id</th>\n",
       "      <th>ProductId</th>\n",
       "      <th>UserId</th>\n",
       "      <th>ProfileName</th>\n",
       "      <th>HelpfulnessNumerator</th>\n",
       "      <th>HelpfulnessDenominator</th>\n",
       "      <th>Score</th>\n",
       "      <th>Time</th>\n",
       "      <th>Summary</th>\n",
       "      <th>Text</th>\n",
       "      <th>Num_words_text</th>\n",
       "    </tr>\n",
       "  </thead>\n",
       "  <tbody>\n",
       "    <tr>\n",
       "      <th>0</th>\n",
       "      <td>1</td>\n",
       "      <td>B001E4KFG0</td>\n",
       "      <td>A3SGXH7AUHU8GW</td>\n",
       "      <td>delmartian</td>\n",
       "      <td>1</td>\n",
       "      <td>1</td>\n",
       "      <td>5</td>\n",
       "      <td>1303862400</td>\n",
       "      <td>Good Quality Dog Food</td>\n",
       "      <td>have bought several vitality canned food produ...</td>\n",
       "      <td>30</td>\n",
       "    </tr>\n",
       "    <tr>\n",
       "      <th>1</th>\n",
       "      <td>2</td>\n",
       "      <td>B00813GRG4</td>\n",
       "      <td>A1D87F6ZCVE5NK</td>\n",
       "      <td>dll pa</td>\n",
       "      <td>0</td>\n",
       "      <td>0</td>\n",
       "      <td>1</td>\n",
       "      <td>1346976000</td>\n",
       "      <td>Not as Advertised</td>\n",
       "      <td>product arrived labeled jumbo salted peanutsth...</td>\n",
       "      <td>20</td>\n",
       "    </tr>\n",
       "    <tr>\n",
       "      <th>2</th>\n",
       "      <td>3</td>\n",
       "      <td>B000LQOCH0</td>\n",
       "      <td>ABXLMWJIXXAIN</td>\n",
       "      <td>Natalia Corres \"Natalia Corres\"</td>\n",
       "      <td>1</td>\n",
       "      <td>1</td>\n",
       "      <td>4</td>\n",
       "      <td>1219017600</td>\n",
       "      <td>\"Delight\" says it all</td>\n",
       "      <td>this confection that been around centuries lig...</td>\n",
       "      <td>52</td>\n",
       "    </tr>\n",
       "    <tr>\n",
       "      <th>3</th>\n",
       "      <td>4</td>\n",
       "      <td>B000UA0QIQ</td>\n",
       "      <td>A395BORC6FGVXV</td>\n",
       "      <td>Karl</td>\n",
       "      <td>3</td>\n",
       "      <td>3</td>\n",
       "      <td>2</td>\n",
       "      <td>1307923200</td>\n",
       "      <td>Cough Medicine</td>\n",
       "      <td>looking secret ingredient robitussin believe h...</td>\n",
       "      <td>22</td>\n",
       "    </tr>\n",
       "    <tr>\n",
       "      <th>4</th>\n",
       "      <td>5</td>\n",
       "      <td>B006K2ZZ7K</td>\n",
       "      <td>A1UQRSCLF8GW1T</td>\n",
       "      <td>Michael D. Bigham \"M. Wassir\"</td>\n",
       "      <td>0</td>\n",
       "      <td>0</td>\n",
       "      <td>5</td>\n",
       "      <td>1350777600</td>\n",
       "      <td>Great taffy</td>\n",
       "      <td>great taffy great price there wide assortment ...</td>\n",
       "      <td>17</td>\n",
       "    </tr>\n",
       "  </tbody>\n",
       "</table>\n",
       "</div>"
      ],
      "text/plain": [
       "   Id   ProductId          UserId                      ProfileName  \\\n",
       "0   1  B001E4KFG0  A3SGXH7AUHU8GW                       delmartian   \n",
       "1   2  B00813GRG4  A1D87F6ZCVE5NK                           dll pa   \n",
       "2   3  B000LQOCH0   ABXLMWJIXXAIN  Natalia Corres \"Natalia Corres\"   \n",
       "3   4  B000UA0QIQ  A395BORC6FGVXV                             Karl   \n",
       "4   5  B006K2ZZ7K  A1UQRSCLF8GW1T    Michael D. Bigham \"M. Wassir\"   \n",
       "\n",
       "   HelpfulnessNumerator  HelpfulnessDenominator  Score        Time  \\\n",
       "0                     1                       1      5  1303862400   \n",
       "1                     0                       0      1  1346976000   \n",
       "2                     1                       1      4  1219017600   \n",
       "3                     3                       3      2  1307923200   \n",
       "4                     0                       0      5  1350777600   \n",
       "\n",
       "                 Summary                                               Text  \\\n",
       "0  Good Quality Dog Food  have bought several vitality canned food produ...   \n",
       "1      Not as Advertised  product arrived labeled jumbo salted peanutsth...   \n",
       "2  \"Delight\" says it all  this confection that been around centuries lig...   \n",
       "3         Cough Medicine  looking secret ingredient robitussin believe h...   \n",
       "4            Great taffy  great taffy great price there wide assortment ...   \n",
       "\n",
       "   Num_words_text  \n",
       "0              30  \n",
       "1              20  \n",
       "2              52  \n",
       "3              22  \n",
       "4              17  "
      ]
     },
     "execution_count": 14,
     "metadata": {},
     "output_type": "execute_result"
    }
   ],
   "source": [
    "data.head()"
   ]
  },
  {
   "cell_type": "code",
   "execution_count": 15,
   "id": "d9dd19e7",
   "metadata": {},
   "outputs": [
    {
     "name": "stdout",
     "output_type": "stream",
     "text": [
      "5    363111\n",
      "4     80655\n",
      "1     52264\n",
      "3     42638\n",
      "2     29743\n",
      "Name: Score, dtype: int64\n"
     ]
    }
   ],
   "source": [
    "#@ Print the unique value present in the score column\n",
    "print(data['Score'].value_counts())"
   ]
  },
  {
   "cell_type": "code",
   "execution_count": 16,
   "id": "fdacef82",
   "metadata": {},
   "outputs": [
    {
     "name": "stdout",
     "output_type": "stream",
     "text": [
      "568411\n"
     ]
    }
   ],
   "source": [
    "#@ Len of data after removing the null values\n",
    "print(len(data))"
   ]
  },
  {
   "cell_type": "code",
   "execution_count": 17,
   "id": "45a5d544",
   "metadata": {},
   "outputs": [
    {
     "name": "stdout",
     "output_type": "stream",
     "text": [
      "2234\n"
     ]
    }
   ],
   "source": [
    "#@ The maximum review data sentence length\n",
    "print(data['Num_words_text'].max())"
   ]
  },
  {
   "cell_type": "code",
   "execution_count": 18,
   "id": "cebe4a3b",
   "metadata": {},
   "outputs": [
    {
     "name": "stdout",
     "output_type": "stream",
     "text": [
      "The number of short reviews are: 373281\n"
     ]
    }
   ],
   "source": [
    "mask = (data['Num_words_text'] < 100) & (data['Num_words_text'] >= 20)\n",
    "data_short_reviews = data[mask]\n",
    "\n",
    "data_sampled = data_short_reviews.groupby('Score').apply(lambda x: x.sample(n=20000)).reset_index(drop=True)\n",
    "print('The number of short reviews are:', len(data_short_reviews))"
   ]
  },
  {
   "cell_type": "markdown",
   "id": "fb686786",
   "metadata": {},
   "source": [
    "**Applying Pre-Processing**"
   ]
  },
  {
   "cell_type": "code",
   "execution_count": 19,
   "id": "8b13fb32",
   "metadata": {},
   "outputs": [],
   "source": [
    "from nltk.corpus import stopwords\n",
    "stop_words = stopwords.words('english')\n",
    "\n",
    "def remove_stopwords(text):\n",
    "    textArr = text.split(' ')\n",
    "    rem_text = \" \".join([i for i in textArr if i not in stop_words])\n",
    "    return rem_text\n",
    "\n",
    "#@ Let's remove stopwords from the text\n",
    "data_sampled['Text'] = data_sampled['Text'].apply(remove_stopwords)"
   ]
  },
  {
   "cell_type": "code",
   "execution_count": 20,
   "id": "66705caa",
   "metadata": {},
   "outputs": [
    {
     "data": {
      "text/plain": [
       "<spacy.lang.en.English at 0x7fa5a4bca8f0>"
      ]
     },
     "execution_count": 20,
     "metadata": {},
     "output_type": "execute_result"
    }
   ],
   "source": [
    "import spacy\n",
    "spacy.load(\"en_core_web_md\")"
   ]
  },
  {
   "cell_type": "code",
   "execution_count": 21,
   "id": "e184a7fe",
   "metadata": {},
   "outputs": [],
   "source": [
    "#@ Applying lemmatization in the text\n",
    "nlp = spacy.load('en_core_web_md', disable=['parser', 'ner'])\n",
    "\n",
    "def lemmatization(texts, allowed_postags=['NOUNS', 'ADJ']):\n",
    "    output = []\n",
    "    for sent in texts:\n",
    "        doc = nlp(sent)\n",
    "        output.append([token.lemma_ for token in doc if token.pos_ in allowed_postags])\n",
    "    return output"
   ]
  },
  {
   "cell_type": "code",
   "execution_count": 38,
   "id": "bc9908a9",
   "metadata": {},
   "outputs": [
    {
     "name": "stdout",
     "output_type": "stream",
     "text": [
      "ordered kettle chips following flavvorsbr salt fresh ground pepperbr tuscan cheesebr cheddar hersbr tasted variety pack suggest order ordering large sizebr wish could return unopened bags\n"
     ]
    }
   ],
   "source": [
    "text_list = data_sampled['Text'].tolist()\n",
    "print(text_list[1])"
   ]
  },
  {
   "cell_type": "code",
   "execution_count": 23,
   "id": "148fea13",
   "metadata": {},
   "outputs": [],
   "source": [
    "tokenized_review = lemmatization(text_list)"
   ]
  },
  {
   "cell_type": "code",
   "execution_count": 36,
   "id": "4b3842ce",
   "metadata": {},
   "outputs": [
    {
     "data": {
      "text/plain": [
       "['fresh', 'tuscan', 'large', 'unopened']"
      ]
     },
     "execution_count": 36,
     "metadata": {},
     "output_type": "execute_result"
    }
   ],
   "source": [
    "tokenized_review[1]"
   ]
  },
  {
   "cell_type": "markdown",
   "id": "b8a87150",
   "metadata": {},
   "source": [
    "**Create vocabulary and document term matrix**"
   ]
  },
  {
   "cell_type": "code",
   "execution_count": 25,
   "id": "a12a4137",
   "metadata": {},
   "outputs": [],
   "source": [
    "dictionary = corpora.Dictionary(tokenized_review)\n",
    "doc_term_matrix = [dictionary.doc2bow(rev) for rev in tokenized_review]"
   ]
  },
  {
   "cell_type": "code",
   "execution_count": 26,
   "id": "cd6e1bb7",
   "metadata": {},
   "outputs": [],
   "source": [
    "#@ Creating the object for LDAmodel using gensim library\n",
    "LDA = gensim.models.ldamodel.LdaModel\n",
    "\n",
    "#@ Building LDA Model\n",
    "lda_model = LDA(corpus=doc_term_matrix,\n",
    "               id2word=dictionary,\n",
    "               num_topics=10,\n",
    "               random_state=100,\n",
    "               chunksize=1000,\n",
    "               passes=50,\n",
    "               iterations=100)"
   ]
  },
  {
   "cell_type": "code",
   "execution_count": 27,
   "id": "2b07d2fe",
   "metadata": {},
   "outputs": [
    {
     "data": {
      "text/plain": [
       "[(0,\n",
       "  '0.104*\"good\" + 0.094*\"nice\" + 0.091*\"little\" + 0.079*\"well\" + 0.054*\"great\" + 0.039*\"worth\" + 0.038*\"easy\" + 0.037*\"tasty\" + 0.029*\"hard\" + 0.026*\"crunchy\"'),\n",
       " (1,\n",
       "  '0.133*\"small\" + 0.079*\"large\" + 0.065*\"last\" + 0.052*\"extra\" + 0.042*\"bold\" + 0.032*\"great\" + 0.028*\"little\" + 0.024*\"able\" + 0.022*\"light\" + 0.022*\"original\"'),\n",
       " (2,\n",
       "  '0.114*\"fresh\" + 0.084*\"green\" + 0.080*\"good\" + 0.078*\"cheap\" + 0.043*\"great\" + 0.037*\"picky\" + 0.027*\"local\" + 0.026*\"well\" + 0.026*\"blue\" + 0.020*\"brown\"'),\n",
       " (3,\n",
       "  '0.154*\"strong\" + 0.064*\"enough\" + 0.047*\"right\" + 0.045*\"quick\" + 0.041*\"open\" + 0.036*\"salty\" + 0.034*\"great\" + 0.033*\"special\" + 0.025*\"much\" + 0.025*\"instant\"'),\n",
       " (4,\n",
       "  '0.130*\"free\" + 0.079*\"excellent\" + 0.079*\"good\" + 0.057*\"great\" + 0.053*\"smooth\" + 0.031*\"soft\" + 0.029*\"fantastic\" + 0.025*\"artificial\" + 0.021*\"first\" + 0.021*\"true\"'),\n",
       " (5,\n",
       "  '0.119*\"healthy\" + 0.092*\"good\" + 0.077*\"organic\" + 0.071*\"whole\" + 0.056*\"great\" + 0.029*\"white\" + 0.027*\"little\" + 0.024*\"high\" + 0.017*\"nuts\" + 0.017*\"difficult\"'),\n",
       " (6,\n",
       "  '0.120*\"many\" + 0.093*\"happy\" + 0.071*\"local\" + 0.070*\"natural\" + 0.059*\"different\" + 0.045*\"several\" + 0.041*\"great\" + 0.022*\"convenient\" + 0.019*\"fast\" + 0.018*\"reasonable\"'),\n",
       " (7,\n",
       "  '0.124*\"great\" + 0.120*\"favorite\" + 0.098*\"perfect\" + 0.058*\"real\" + 0.034*\"long\" + 0.026*\"less\" + 0.026*\"available\" + 0.019*\"alternative\" + 0.016*\"oatmeal\" + 0.015*\"daily\"'),\n",
       " (8,\n",
       "  '0.213*\"good\" + 0.116*\"sweet\" + 0.063*\"great\" + 0.054*\"regular\" + 0.035*\"delicious\" + 0.032*\"amazing\" + 0.024*\"cold\" + 0.024*\"yummy\" + 0.022*\"clean\" + 0.021*\"awesome\"'),\n",
       " (9,\n",
       "  '0.071*\"good\" + 0.065*\"wonderful\" + 0.060*\"dark\" + 0.059*\"high\" + 0.049*\"rich\" + 0.047*\"black\" + 0.041*\"bitter\" + 0.037*\"glad\" + 0.032*\"little\" + 0.031*\"full\"')]"
      ]
     },
     "execution_count": 27,
     "metadata": {},
     "output_type": "execute_result"
    }
   ],
   "source": [
    "lda_model.print_topics()"
   ]
  },
  {
   "cell_type": "code",
   "execution_count": 28,
   "id": "61639523",
   "metadata": {},
   "outputs": [
    {
     "name": "stderr",
     "output_type": "stream",
     "text": [
      "/home/saugat/.local/lib/python3.10/site-packages/pyLDAvis/_prepare.py:244: FutureWarning: In a future version of pandas all arguments of DataFrame.drop except for the argument 'labels' will be keyword-only.\n",
      "  by='saliency', ascending=False).head(R).drop('saliency', 1)\n"
     ]
    },
    {
     "data": {
      "text/html": [
       "\n",
       "<link rel=\"stylesheet\" type=\"text/css\" href=\"https://cdn.jsdelivr.net/gh/bmabey/pyLDAvis@3.4.0/pyLDAvis/js/ldavis.v1.0.0.css\">\n",
       "\n",
       "\n",
       "<div id=\"ldavis_el82571140345263353728553629493\" style=\"background-color:white;\"></div>\n",
       "<script type=\"text/javascript\">\n",
       "\n",
       "var ldavis_el82571140345263353728553629493_data = {\"mdsDat\": {\"x\": [-0.11156212915405982, -0.07112366781149292, -0.2142467759519987, -0.12336964573053903, 0.2098926175540492, -0.163745696953791, 0.26211565347411675, 0.1439452683751268, -0.07715648681830811, 0.14525086301689666], \"y\": [-0.01886436518904247, -0.07364692596135422, 0.15699889367248043, 0.07189142147909207, 0.0865086125364828, -0.0873740195275949, -0.18138475092009895, -0.044652126950112316, -0.19568221143783873, 0.2862054722979863], \"topics\": [1, 2, 3, 4, 5, 6, 7, 8, 9, 10], \"cluster\": [1, 1, 1, 1, 1, 1, 1, 1, 1, 1], \"Freq\": [13.451406897213738, 11.38343006856993, 10.604561527367881, 10.57236539270213, 10.253679159653931, 9.221971010857349, 9.077848211297013, 8.96307323171773, 8.291975083794085, 8.179689416826214]}, \"tinfo\": {\"Term\": [\"good\", \"strong\", \"small\", \"free\", \"sweet\", \"healthy\", \"many\", \"favorite\", \"nice\", \"fresh\", \"perfect\", \"happy\", \"well\", \"large\", \"organic\", \"excellent\", \"green\", \"whole\", \"little\", \"cheap\", \"local\", \"last\", \"natural\", \"wonderful\", \"high\", \"dark\", \"enough\", \"regular\", \"different\", \"real\", \"nice\", \"hard\", \"crunchy\", \"close\", \"thick\", \"plain\", \"creamy\", \"thin\", \"tiny\", \"double\", \"crisp\", \"fancy\", \"disappointed\", \"previous\", \"straight\", \"sticky\", \"delicate\", \"effective\", \"pink\", \"helpful\", \"comparable\", \"resealable\", \"flat\", \"bright\", \"gummy\", \"cute\", \"baked\", \"left\", \"complex\", \"honest\", \"well\", \"worth\", \"tasty\", \"easy\", \"second\", \"little\", \"good\", \"great\", \"soft\", \"delicious\", \"much\", \"long\", \"less\", \"expensive\", \"first\", \"sure\", \"sweet\", \"amazing\", \"cold\", \"yummy\", \"clean\", \"awesome\", \"spicy\", \"warm\", \"moist\", \"online\", \"allergic\", \"bulk\", \"digestive\", \"affordable\", \"early\", \"herbal\", \"weird\", \"steep\", \"english\", \"finicky\", \"additional\", \"crunch\", \"unable\", \"guilty\", \"funny\", \"slow\", \"slim\", \"greenies\", \"eater\", \"automatic\", \"regular\", \"good\", \"delicious\", \"great\", \"right\", \"much\", \"different\", \"light\", \"first\", \"sure\", \"available\", \"able\", \"similar\", \"dark\", \"rich\", \"black\", \"bitter\", \"glad\", \"mild\", \"french\", \"weak\", \"pricey\", \"medium\", \"unique\", \"slight\", \"bland\", \"chewy\", \"typical\", \"handy\", \"tough\", \"robust\", \"mini\", \"incredible\", \"fructose\", \"dense\", \"tart\", \"amazed\", \"upset\", \"hearty\", \"equal\", \"wholesome\", \"present\", \"harsh\", \"wonderful\", \"high\", \"pleasant\", \"half\", \"full\", \"good\", \"little\", \"actual\", \"decent\", \"tasty\", \"less\", \"much\", \"single\", \"healthy\", \"organic\", \"whole\", \"white\", \"nuts\", \"difficult\", \"low\", \"big\", \"subtle\", \"important\", \"plenty\", \"short\", \"live\", \"iced\", \"fair\", \"clear\", \"main\", \"nutty\", \"messy\", \"impossible\", \"golden\", \"balanced\", \"general\", \"average\", \"delightful\", \"common\", \"super\", \"interested\", \"concerned\", \"sugary\", \"old\", \"good\", \"particular\", \"high\", \"great\", \"little\", \"enough\", \"fine\", \"easy\", \"much\", \"full\", \"expensive\", \"small\", \"large\", \"last\", \"extra\", \"bold\", \"original\", \"crazy\", \"normal\", \"pleased\", \"nutritional\", \"various\", \"nutritious\", \"prime\", \"busy\", \"terrific\", \"intense\", \"kind\", \"certain\", \"authentic\", \"dental\", \"major\", \"mellow\", \"positive\", \"complete\", \"exact\", \"calm\", \"jerky\", \"broken\", \"willing\", \"mebr\", \"light\", \"surprised\", \"heavy\", \"negative\", \"overall\", \"able\", \"sure\", \"little\", \"great\", \"different\", \"first\", \"huge\", \"full\", \"delicious\", \"much\", \"free\", \"excellent\", \"smooth\", \"fantastic\", \"artificial\", \"true\", \"mixed\", \"sensitive\", \"ready\", \"usual\", \"tired\", \"hungry\", \"addictive\", \"outstanding\", \"plastic\", \"splenda\", \"impressed\", \"absolute\", \"nasty\", \"bad\", \"tangy\", \"terrible\", \"enjoyable\", \"deep\", \"economical\", \"third\", \"fake\", \"tasted\", \"hesitant\", \"satisfying\", \"soft\", \"cool\", \"good\", \"great\", \"first\", \"wonderful\", \"regular\", \"tasty\", \"many\", \"happy\", \"natural\", \"convenient\", \"fast\", \"reasonable\", \"simple\", \"refreshing\", \"traditional\", \"hooked\", \"diabetic\", \"standard\", \"shiny\", \"orange\", \"fabulous\", \"skeptical\", \"yellow\", \"wild\", \"bodied\", \"current\", \"celiac\", \"afraid\", \"fussy\", \"savory\", \"smart\", \"monthly\", \"quite\", \"chinese\", \"useful\", \"holistic\", \"local\", \"several\", \"different\", \"next\", \"single\", \"able\", \"great\", \"delicious\", \"long\", \"first\", \"expensive\", \"much\", \"favorite\", \"perfect\", \"real\", \"alternative\", \"oatmeal\", \"daily\", \"individual\", \"loose\", \"satisfied\", \"sick\", \"careful\", \"gluten\", \"possible\", \"young\", \"lovely\", \"save\", \"sized\", \"puppy\", \"empty\", \"consistent\", \"german\", \"future\", \"vegetarian\", \"gross\", \"classic\", \"back\", \"versatile\", \"american\", \"pretty\", \"wide\", \"long\", \"pure\", \"entire\", \"less\", \"available\", \"great\", \"several\", \"easy\", \"similar\", \"much\", \"full\", \"sure\", \"fresh\", \"green\", \"cheap\", \"picky\", \"blue\", \"sour\", \"beautiful\", \"stale\", \"decaf\", \"roasted\", \"personal\", \"frozen\", \"popular\", \"asian\", \"powdered\", \"commercial\", \"human\", \"indian\", \"retail\", \"active\", \"timely\", \"fluffy\", \"unpleasant\", \"direct\", \"japanese\", \"hot\", \"unhealthy\", \"darn\", \"lazy\", \"exotic\", \"brown\", \"local\", \"good\", \"least\", \"well\", \"expensive\", \"great\", \"worth\", \"much\", \"first\", \"strong\", \"quick\", \"open\", \"salty\", \"special\", \"instant\", \"flavorful\", \"italian\", \"homemade\", \"solid\", \"safe\", \"past\", \"garlic\", \"everyday\", \"interesting\", \"total\", \"amazon\", \"late\", \"bottom\", \"middle\", \"multiple\", \"strange\", \"overwhelming\", \"addicted\", \"occasional\", \"irish\", \"firm\", \"couple\", \"severe\", \"minimal\", \"enough\", \"right\", \"much\", \"great\", \"little\", \"first\"], \"Freq\": [42548.0, 7756.0, 8397.0, 7396.0, 8093.0, 7711.0, 6713.0, 6587.0, 7760.0, 5832.0, 5412.0, 5178.0, 7865.0, 4981.0, 5025.0, 4480.0, 4271.0, 4638.0, 14201.0, 3978.0, 5311.0, 4116.0, 3894.0, 5250.0, 5426.0, 3893.0, 4141.0, 4683.0, 5213.0, 3198.0, 7759.45861126964, 2367.7397911409294, 2128.5130023441025, 1414.2912211106755, 1387.6954265717825, 1375.070258687375, 1088.1111756345579, 938.1879229892579, 831.6128664283387, 716.2288817118304, 641.7551901623282, 557.276256338506, 542.8476855364275, 515.4200842507593, 459.57118715285503, 456.4459637758773, 405.456356494285, 393.919012891877, 369.80262306027936, 362.82882089740235, 341.5101059932052, 329.5143947555521, 309.6340171633469, 295.05491575033216, 292.3619962685475, 290.3438466123081, 277.03484241670935, 268.5080340352741, 258.40950898082656, 242.84312310434427, 6517.667770516563, 3253.6137454633745, 3050.9177715272417, 3177.475901436037, 1155.7011138956027, 7549.998846547269, 8592.507793818902, 4427.208598626158, 1122.1990827238053, 1165.0100654718674, 1294.8700131086289, 881.0953966522034, 799.8144875826684, 674.3392540995559, 648.6964607737368, 594.2660933153625, 8092.60173318935, 2229.93384853346, 1686.0912523133163, 1678.7448123247798, 1554.768489849532, 1454.2233126978301, 1187.0246422313505, 890.8756785179851, 808.3939314505641, 662.5592393383109, 563.3352537108372, 500.3571762354902, 456.75775819541957, 408.2806634275241, 397.2642288826975, 385.4891973895053, 385.203110814879, 345.5489572854335, 341.54322395775944, 307.74587935375246, 305.2626179122289, 272.6408477107904, 271.18086461294797, 270.14294147763786, 252.23384371359435, 241.0824620565822, 233.99970976782217, 212.30442022981364, 210.9996002468394, 208.51216854207112, 3812.2737731842185, 14874.455323881315, 2423.9686387096485, 4442.389081242352, 942.4258663350838, 1168.2701864953415, 1003.4978728661262, 611.4866769834628, 893.2445183617307, 694.1091704353942, 602.7701751982987, 485.875383255001, 387.22073630098066, 3892.255100708227, 3210.910736332478, 3073.7307505748417, 2652.126400119155, 2413.2727336437883, 1878.1194469388063, 1758.038367442233, 1170.3091278048842, 909.0905343362931, 883.5468252091569, 783.3751550156404, 691.0764140562616, 641.0608718865581, 623.0025703646158, 605.043638032301, 529.2293168913476, 509.83563186139605, 494.34438797216274, 420.65399979423, 415.36360720523544, 326.1190575051746, 317.3551441749162, 309.007161014069, 308.40633252357964, 304.2972920933706, 275.16761175228595, 272.2293006291919, 251.701337848858, 251.69628440656328, 241.68427705802307, 4227.003859400553, 3854.8133727959466, 810.2867839279028, 942.0379461637739, 2009.8707305786966, 4605.590152538997, 2108.5894374717127, 405.8238918419703, 554.5208091688188, 687.8120420888896, 515.309678380273, 534.3423078574431, 448.51091075015233, 7710.604585895581, 5024.271661432374, 4638.059228047616, 1866.939533397895, 1135.6992708958214, 1131.5950805461136, 998.0704296502503, 845.2220489482273, 826.0598409215862, 679.5008241979131, 677.2033296914943, 673.8090121307522, 646.199136362277, 644.9639698130197, 569.0224082337048, 565.4024806339803, 503.9626579015757, 490.7161169673625, 441.87208818709547, 441.4816581531644, 436.4380210652207, 421.5880935489742, 414.51614474790415, 382.319328822596, 369.9001860785565, 355.2047905458244, 342.17160481344393, 340.6084019937187, 333.5910704298218, 272.4945949496079, 522.5222910467394, 5945.8300895281345, 636.439989233429, 1570.7381224059793, 3613.806596027397, 1722.91632993963, 901.8472033648154, 651.6752027778895, 826.373262164046, 530.6404398341048, 499.38888034760726, 495.1315196629573, 8396.561961670606, 4981.005881661703, 4115.395885246721, 3265.1297807972487, 2640.8160789566477, 1405.5068194622606, 1145.5287330505967, 1074.903302902784, 944.5101548856778, 690.6735225092326, 674.4920741665435, 650.2509505189098, 581.8562845776471, 569.1752584338801, 533.2854687769023, 499.0098093181598, 458.6996940915845, 424.625852264442, 404.0940703619513, 401.0700927244697, 381.5469881254142, 329.46814931629774, 328.8403635412232, 315.00656752878086, 265.2366139870431, 263.2103379667646, 255.03136810424346, 253.458088588455, 251.83533044435805, 251.596653288941, 1407.7181561172447, 897.8404805434633, 658.5462215700352, 487.64527858715667, 656.5710675963245, 1481.0274056696067, 902.6980727570683, 1755.635670974145, 2031.4225019446794, 904.1492110800809, 790.413985313859, 552.9145738536863, 580.9399028175276, 540.8252956703066, 532.1845546236606, 7395.835090188857, 4479.200343170039, 2988.6188148421593, 1658.5920030960044, 1421.770539126632, 1177.8469956727058, 1140.2790328110436, 897.5574690647381, 820.1959541252083, 707.3230387934584, 619.0642079592261, 569.3342375104953, 569.3002421248252, 500.157217246769, 499.83362762851186, 490.4722274814128, 485.9685251223846, 468.7738279716297, 441.40904696139563, 429.57527432478753, 407.0141627218273, 389.5726031159697, 383.29662733955894, 378.4365277035874, 368.93494937846515, 352.9599158704233, 347.91516427936796, 318.94127714539445, 312.3957137375907, 304.6202986289461, 1764.21344928257, 475.2810937826887, 4452.051754864792, 3253.587719116234, 1191.4728107824938, 1023.0528077503493, 870.8199926594891, 579.0938165304351, 6712.295492416605, 5178.028908158753, 3893.133048414004, 1211.3007194348695, 1034.2649313042384, 1008.8739942156385, 972.8958268205243, 813.6421022469758, 711.7350351003781, 599.1226779687627, 514.8553480326711, 487.0881481368657, 472.3843140229507, 453.8840714092668, 445.9008052793256, 428.08842137787394, 389.8940888293701, 378.3061832328983, 324.7748228150192, 299.94656584467475, 296.5801762135047, 272.33151328102537, 237.32980647068277, 219.42087552580693, 214.29328179544555, 203.04694124374663, 199.44971947928752, 191.71777185070317, 180.22142486053568, 177.81784256566584, 3950.9494503364094, 2533.930884292474, 3305.168413061774, 918.9777845815252, 664.3111585481519, 852.4760979303297, 2268.4990550657576, 772.6785635423032, 607.2322139133007, 684.7752865004652, 462.6627854082809, 464.5200429034731, 6587.031317665057, 5411.68337054501, 3198.0602138638374, 1063.9145114193116, 907.1060365137531, 853.6851037015222, 761.8655538385952, 725.2144669951527, 627.2709937868162, 586.3267319725107, 525.0594341919609, 501.31670617603874, 488.80694287361024, 464.2398316813236, 460.3893753082232, 425.49323237436096, 405.1969267812113, 376.76481399361245, 364.4074548625426, 337.6549176196945, 308.13270840763613, 286.11424337401854, 279.9503270807639, 254.60259664349437, 252.79801427715955, 238.44357304875413, 218.20506355021328, 215.83362796480557, 214.01686044758787, 203.47269024731852, 1858.754827947603, 703.7767077731908, 669.8806963708483, 1447.6831449168258, 1429.522190817346, 6825.165387881386, 752.3225541142895, 689.0067657261527, 441.00349288314595, 696.0907250434401, 467.0460591031827, 435.0639629367813, 5831.541958622315, 4270.38685763509, 3978.0268053242944, 1899.4687030849595, 1314.4986507340723, 987.5386370798059, 730.7365208599945, 622.9032987656346, 613.1706208720135, 583.9221799582382, 574.1301715174045, 520.7293090510337, 464.8473854935478, 430.52774911954646, 397.6553034531535, 371.5505746462009, 338.0698484775661, 303.25152698813395, 289.32054837709654, 284.5136823708118, 270.1251228474524, 227.89261885615193, 219.79993221636101, 219.14629944382986, 215.1490818170264, 210.141939615571, 203.78137270332195, 201.01844404850937, 178.08123076392118, 172.99553491795638, 1035.0991428718871, 1359.5902463311074, 4078.1551252354448, 604.5987332684963, 1346.6107161073892, 828.3050361777689, 2210.126296156103, 617.0514082329671, 566.8232586448966, 277.57167609587987, 7755.544680403289, 2268.7617062235254, 2070.119338326775, 1790.2802787757153, 1668.4758769545044, 1257.0316976027302, 1046.5689109297825, 1011.6902101768693, 866.9905595339427, 700.0412376514778, 687.4476989857452, 616.0618387978669, 544.8575531576885, 521.5397853265754, 521.2763196277857, 518.9149140737139, 498.11723053369025, 491.77925810593587, 471.4923524774276, 423.7085146536911, 419.63919399481165, 402.2996206583624, 388.5697193642973, 385.83280378635965, 365.7815517675917, 359.46041174053306, 302.1474452008134, 287.9345078517342, 227.95998525819317, 222.7044134509776, 3239.098523859417, 2381.972828032247, 1273.8746800023812, 1724.038812271403, 1063.5356899008925, 655.3429497744703], \"Total\": [42548.0, 7756.0, 8397.0, 7396.0, 8093.0, 7711.0, 6713.0, 6587.0, 7760.0, 5832.0, 5412.0, 5178.0, 7865.0, 4981.0, 5025.0, 4480.0, 4271.0, 4638.0, 14201.0, 3978.0, 5311.0, 4116.0, 3894.0, 5250.0, 5426.0, 3893.0, 4141.0, 4683.0, 5213.0, 3198.0, 7760.371550806047, 2368.6527189464427, 2129.4259339274936, 1415.2041757957063, 1388.608369635555, 1375.9832114836458, 1089.0241690977402, 939.1008344107976, 832.5257971782306, 717.1418474972822, 642.6681736243752, 558.1892554930156, 543.7605738860201, 516.3330570240557, 460.48413379027846, 457.3588762747018, 406.3693556911149, 394.83197798605323, 370.71554550250625, 363.74179035944854, 342.4230261322285, 330.42738881109085, 310.54695656723055, 295.96786903840393, 293.2748930092463, 291.2567894634513, 277.9478047150975, 269.4209989928154, 259.3225514858803, 243.75608408616787, 7865.084406304073, 3871.471090757833, 4318.523224940775, 4693.5848841373745, 1491.6717611744384, 14201.15704213145, 42548.99582533288, 30796.350306991702, 2887.2183500476817, 4903.103689861679, 7061.723369530864, 3347.8184361317226, 2763.5271396028543, 3576.092711948428, 5384.81741228219, 2996.5711722664164, 8093.524961486095, 2230.857133265876, 1687.0144951429033, 1679.668063860412, 1555.691755824141, 1455.1465813504424, 1187.9478682442727, 891.7989393216129, 809.3171862066765, 663.4824953586945, 564.2584869728449, 501.2804325471304, 457.68103119656087, 409.20390532964893, 398.18750953535795, 386.41242977087586, 386.12632815087073, 346.4722038387316, 342.4665244692826, 308.6691228209157, 306.18585113050875, 273.56409305469066, 272.1040988989997, 271.06618459011935, 253.1570781149398, 242.0057411346231, 234.92289655232224, 213.22765525077207, 211.9229150675608, 209.43545180185768, 4683.909886832222, 42548.99582533288, 4903.103689861679, 30796.350306991702, 3325.205425625931, 7061.723369530864, 5213.536689052981, 2020.0161374547854, 5384.81741228219, 2996.5711722664164, 2924.5776534580154, 3198.4047227378387, 1272.8070226205718, 3893.1619010695636, 3211.8175747279774, 3074.6375645032235, 2653.033203636277, 2414.1796077859185, 1879.0262595215486, 1758.9451670388964, 1171.2159313890895, 909.9973668537392, 884.4536242110952, 784.2819940304008, 691.9832385087931, 641.9676810430217, 623.9094033780124, 605.9504772028154, 530.1361880165196, 510.74244934211396, 495.2512264816795, 421.56083543430094, 416.270446277298, 327.0258531306154, 318.2619759155734, 309.9139644795042, 309.31323812805994, 305.2041269645905, 276.07445253301364, 273.13613974824113, 252.6081980310413, 252.60314666495202, 242.59110723808618, 5250.856411802884, 5426.361228353235, 1013.1632366602032, 1249.5021424214933, 3557.856424700376, 42548.99582533288, 14201.15704213145, 539.9441338602038, 1027.1364481876565, 4318.523224940775, 2763.5271396028543, 7061.723369530864, 1348.3181374955968, 7711.5205128708885, 5025.187578766643, 4638.975155530372, 1867.8554626303658, 1136.6151816622423, 1132.5110179997769, 998.9863657795615, 846.1379715602991, 826.9757748636091, 680.41675073806, 678.1193241370511, 674.7249285997528, 647.1150743666382, 645.8799555792514, 569.9383147488431, 566.3184153702155, 504.8785755416739, 491.63206915797997, 442.78799753106426, 442.3976092552273, 437.3539413068384, 422.5040737475468, 415.43207835597065, 383.2352490289361, 370.8161866513002, 356.1208003297098, 343.0875494219141, 341.5243315840317, 334.5069911715706, 273.41052707467105, 653.8943702921636, 42548.99582533288, 996.06675943007, 5426.361228353235, 30796.350306991702, 14201.15704213145, 4141.745152347096, 1750.2963090671747, 4693.5848841373745, 7061.723369530864, 3557.856424700376, 3576.092711948428, 8397.463019221022, 4981.906936199547, 4116.296959990842, 3266.0308552495167, 2641.717151236812, 1406.407877070774, 1146.4297989432541, 1075.8043748281882, 945.4112369403015, 691.5745962402838, 675.3931677348754, 651.1520696865282, 582.7573902726929, 570.0763132660826, 534.1865694301761, 499.910897148904, 459.60077169267265, 425.52695839036676, 404.99517696433173, 401.9711432190929, 382.44807296053244, 330.3692712685045, 329.7414323421196, 315.9076368027936, 266.13766287788667, 264.11143025194923, 255.93243461744157, 254.3591208739335, 252.7364015064983, 252.49778140735808, 2020.0161374547854, 1176.8345740310951, 838.7028792723537, 614.0861602953255, 963.142803300859, 3198.4047227378387, 2996.5711722664164, 14201.15704213145, 30796.350306991702, 5213.536689052981, 5384.81741228219, 1570.7987449477714, 3557.856424700376, 4903.103689861679, 7061.723369530864, 7396.740989020522, 4480.1062723025025, 2989.524759560555, 1659.4979432836317, 1422.676437389645, 1178.7529322194716, 1141.1849469041074, 898.463373152787, 821.1018813030373, 708.2289454570686, 619.970124205833, 570.2401475384845, 570.2061970326557, 501.06317313662925, 500.7395187809838, 491.3781269914105, 486.8744199297554, 469.67980472573777, 442.31498157478785, 430.4811779641951, 407.92010439094173, 390.478492311164, 384.20254085113373, 379.34243108482355, 369.84089902950416, 353.86582392748136, 348.8210446295233, 319.84717026169045, 313.30164985726293, 305.5262063413423, 2887.2183500476817, 578.4269199288509, 42548.99582533288, 30796.350306991702, 5384.81741228219, 5250.856411802884, 4683.909886832222, 4318.523224940775, 6713.218475379228, 5178.951885494965, 3894.0560262440695, 1212.223696355984, 1035.187917032754, 1009.7969739008918, 973.8188184002373, 814.5650867275633, 712.6580495667812, 600.0456956317486, 515.7783567832098, 488.0111318062323, 473.30734017064253, 454.8070393115293, 446.8238047133132, 429.011429769514, 390.81707086074266, 379.22913036152755, 325.6978514949398, 300.8695846630883, 297.503152870597, 273.25451295623395, 238.25280052222678, 220.34388068444844, 215.2162510160192, 203.9699219076268, 200.37266725623803, 192.64071743254777, 181.14438781435052, 178.74085101964013, 5311.355660303825, 3287.0895373557228, 5213.536689052981, 1538.0076185033186, 1348.3181374955968, 3198.4047227378387, 30796.350306991702, 4903.103689861679, 3347.8184361317226, 5384.81741228219, 3576.092711948428, 7061.723369530864, 6587.957507698066, 5412.609566984899, 3198.9863763476624, 1064.8406712563494, 908.0321757872276, 854.6112602007502, 762.7917190982537, 726.1406017030171, 628.1971563872773, 587.2529074320403, 525.985564130117, 502.2428942250391, 489.7331214112249, 465.1659863361204, 461.3155952170557, 426.4193873991727, 406.1230838858711, 377.69099791936236, 365.3336265285155, 338.5810766766336, 309.0589194260071, 287.0404139493988, 280.8765262284509, 255.52878479313068, 253.72419665025248, 239.3697275594027, 219.13127752416946, 216.75980067138957, 214.94301083645937, 204.39891091158918, 3347.8184361317226, 1041.9606001391276, 980.6496752677275, 2763.5271396028543, 2924.5776534580154, 30796.350306991702, 3287.0895373557228, 4693.5848841373745, 1272.8070226205718, 7061.723369530864, 3557.856424700376, 2996.5711722664164, 5832.447968658728, 4271.292852620768, 3978.932801855166, 1900.374716057027, 1315.404652641124, 988.444621018495, 731.6425559917429, 623.8092847221901, 614.0766522146897, 584.8282077399855, 575.0361852993532, 521.6353105332005, 465.7533970158766, 431.4337423151256, 398.5612893236124, 372.4566290463002, 338.9758515434249, 304.15751507263036, 290.2265525192006, 285.41968049938856, 271.0311116045539, 228.79864117365497, 220.70591774260558, 220.0522940138369, 216.05506865340146, 211.04792954989796, 204.6873916438125, 201.92444589283704, 178.98725680718198, 173.90158821914594, 1258.584283840786, 5311.355660303825, 42548.99582533288, 1520.8769203688369, 7865.084406304073, 3576.092711948428, 30796.350306991702, 3871.471090757833, 7061.723369530864, 5384.81741228219, 7756.441177968368, 2269.6582216619927, 2071.01583298602, 1791.176777264902, 1669.3723845217746, 1257.9281945869782, 1047.4654649819731, 1012.5867167404487, 867.8871071432683, 700.9377706013745, 688.3442172699628, 616.95837937449, 545.7540553663567, 522.4363233188958, 522.1728266487356, 519.8114256947734, 499.0138052879781, 492.67577613535013, 472.38885266604774, 424.60502197819307, 420.5357162857537, 403.1961150840763, 389.4662139437587, 386.7293640035805, 366.67807622139406, 360.35693009416565, 303.04397463845277, 288.8310506505741, 228.85654294357454, 223.6009710902046, 4141.745152347096, 3325.205425625931, 7061.723369530864, 30796.350306991702, 14201.15704213145, 5384.81741228219], \"Category\": [\"Default\", \"Default\", \"Default\", \"Default\", \"Default\", \"Default\", \"Default\", \"Default\", \"Default\", \"Default\", \"Default\", \"Default\", \"Default\", \"Default\", \"Default\", \"Default\", \"Default\", \"Default\", \"Default\", \"Default\", \"Default\", \"Default\", \"Default\", \"Default\", \"Default\", \"Default\", \"Default\", \"Default\", \"Default\", \"Default\", \"Topic1\", \"Topic1\", \"Topic1\", \"Topic1\", \"Topic1\", \"Topic1\", \"Topic1\", \"Topic1\", \"Topic1\", \"Topic1\", \"Topic1\", \"Topic1\", \"Topic1\", \"Topic1\", \"Topic1\", \"Topic1\", \"Topic1\", \"Topic1\", \"Topic1\", \"Topic1\", \"Topic1\", \"Topic1\", \"Topic1\", \"Topic1\", \"Topic1\", \"Topic1\", \"Topic1\", \"Topic1\", \"Topic1\", \"Topic1\", \"Topic1\", \"Topic1\", \"Topic1\", \"Topic1\", \"Topic1\", \"Topic1\", \"Topic1\", \"Topic1\", \"Topic1\", \"Topic1\", \"Topic1\", \"Topic1\", \"Topic1\", \"Topic1\", \"Topic1\", \"Topic1\", \"Topic2\", \"Topic2\", \"Topic2\", \"Topic2\", \"Topic2\", \"Topic2\", \"Topic2\", \"Topic2\", \"Topic2\", \"Topic2\", \"Topic2\", \"Topic2\", \"Topic2\", \"Topic2\", \"Topic2\", \"Topic2\", \"Topic2\", \"Topic2\", \"Topic2\", \"Topic2\", \"Topic2\", \"Topic2\", \"Topic2\", \"Topic2\", \"Topic2\", \"Topic2\", \"Topic2\", \"Topic2\", \"Topic2\", \"Topic2\", \"Topic2\", \"Topic2\", \"Topic2\", \"Topic2\", \"Topic2\", \"Topic2\", \"Topic2\", \"Topic2\", \"Topic2\", \"Topic2\", \"Topic2\", \"Topic2\", \"Topic2\", \"Topic3\", \"Topic3\", \"Topic3\", \"Topic3\", \"Topic3\", \"Topic3\", \"Topic3\", \"Topic3\", \"Topic3\", \"Topic3\", \"Topic3\", \"Topic3\", \"Topic3\", \"Topic3\", \"Topic3\", \"Topic3\", \"Topic3\", \"Topic3\", \"Topic3\", \"Topic3\", \"Topic3\", \"Topic3\", \"Topic3\", \"Topic3\", \"Topic3\", \"Topic3\", \"Topic3\", \"Topic3\", \"Topic3\", \"Topic3\", \"Topic3\", \"Topic3\", \"Topic3\", \"Topic3\", \"Topic3\", \"Topic3\", \"Topic3\", \"Topic3\", \"Topic3\", \"Topic3\", \"Topic3\", \"Topic3\", \"Topic3\", \"Topic4\", \"Topic4\", \"Topic4\", \"Topic4\", \"Topic4\", \"Topic4\", \"Topic4\", \"Topic4\", \"Topic4\", \"Topic4\", \"Topic4\", \"Topic4\", \"Topic4\", \"Topic4\", \"Topic4\", \"Topic4\", \"Topic4\", \"Topic4\", \"Topic4\", \"Topic4\", \"Topic4\", \"Topic4\", \"Topic4\", \"Topic4\", \"Topic4\", \"Topic4\", \"Topic4\", \"Topic4\", \"Topic4\", \"Topic4\", \"Topic4\", \"Topic4\", \"Topic4\", \"Topic4\", \"Topic4\", \"Topic4\", \"Topic4\", \"Topic4\", \"Topic4\", \"Topic4\", \"Topic4\", \"Topic4\", \"Topic5\", \"Topic5\", \"Topic5\", \"Topic5\", \"Topic5\", \"Topic5\", \"Topic5\", \"Topic5\", \"Topic5\", \"Topic5\", \"Topic5\", \"Topic5\", \"Topic5\", \"Topic5\", \"Topic5\", \"Topic5\", \"Topic5\", \"Topic5\", \"Topic5\", \"Topic5\", \"Topic5\", \"Topic5\", \"Topic5\", \"Topic5\", \"Topic5\", \"Topic5\", \"Topic5\", \"Topic5\", \"Topic5\", \"Topic5\", \"Topic5\", \"Topic5\", \"Topic5\", \"Topic5\", \"Topic5\", \"Topic5\", \"Topic5\", \"Topic5\", \"Topic5\", \"Topic5\", \"Topic5\", \"Topic5\", \"Topic5\", \"Topic5\", \"Topic5\", \"Topic6\", \"Topic6\", \"Topic6\", \"Topic6\", \"Topic6\", \"Topic6\", \"Topic6\", \"Topic6\", \"Topic6\", \"Topic6\", \"Topic6\", \"Topic6\", \"Topic6\", \"Topic6\", \"Topic6\", \"Topic6\", \"Topic6\", \"Topic6\", \"Topic6\", \"Topic6\", \"Topic6\", \"Topic6\", \"Topic6\", \"Topic6\", \"Topic6\", \"Topic6\", \"Topic6\", \"Topic6\", \"Topic6\", \"Topic6\", \"Topic6\", \"Topic6\", \"Topic6\", \"Topic6\", \"Topic6\", \"Topic6\", \"Topic6\", \"Topic6\", \"Topic7\", \"Topic7\", \"Topic7\", \"Topic7\", \"Topic7\", \"Topic7\", \"Topic7\", \"Topic7\", \"Topic7\", \"Topic7\", \"Topic7\", \"Topic7\", \"Topic7\", \"Topic7\", \"Topic7\", \"Topic7\", \"Topic7\", \"Topic7\", \"Topic7\", \"Topic7\", \"Topic7\", \"Topic7\", \"Topic7\", \"Topic7\", \"Topic7\", \"Topic7\", \"Topic7\", \"Topic7\", \"Topic7\", \"Topic7\", \"Topic7\", \"Topic7\", \"Topic7\", \"Topic7\", \"Topic7\", \"Topic7\", \"Topic7\", \"Topic7\", \"Topic7\", \"Topic7\", \"Topic7\", \"Topic7\", \"Topic8\", \"Topic8\", \"Topic8\", \"Topic8\", \"Topic8\", \"Topic8\", \"Topic8\", \"Topic8\", \"Topic8\", \"Topic8\", \"Topic8\", \"Topic8\", \"Topic8\", \"Topic8\", \"Topic8\", \"Topic8\", \"Topic8\", \"Topic8\", \"Topic8\", \"Topic8\", \"Topic8\", \"Topic8\", \"Topic8\", \"Topic8\", \"Topic8\", \"Topic8\", \"Topic8\", \"Topic8\", \"Topic8\", \"Topic8\", \"Topic8\", \"Topic8\", \"Topic8\", \"Topic8\", \"Topic8\", \"Topic8\", \"Topic8\", \"Topic8\", \"Topic8\", \"Topic8\", \"Topic8\", \"Topic8\", \"Topic9\", \"Topic9\", \"Topic9\", \"Topic9\", \"Topic9\", \"Topic9\", \"Topic9\", \"Topic9\", \"Topic9\", \"Topic9\", \"Topic9\", \"Topic9\", \"Topic9\", \"Topic9\", \"Topic9\", \"Topic9\", \"Topic9\", \"Topic9\", \"Topic9\", \"Topic9\", \"Topic9\", \"Topic9\", \"Topic9\", \"Topic9\", \"Topic9\", \"Topic9\", \"Topic9\", \"Topic9\", \"Topic9\", \"Topic9\", \"Topic9\", \"Topic9\", \"Topic9\", \"Topic9\", \"Topic9\", \"Topic9\", \"Topic9\", \"Topic9\", \"Topic9\", \"Topic9\", \"Topic10\", \"Topic10\", \"Topic10\", \"Topic10\", \"Topic10\", \"Topic10\", \"Topic10\", \"Topic10\", \"Topic10\", \"Topic10\", \"Topic10\", \"Topic10\", \"Topic10\", \"Topic10\", \"Topic10\", \"Topic10\", \"Topic10\", \"Topic10\", \"Topic10\", \"Topic10\", \"Topic10\", \"Topic10\", \"Topic10\", \"Topic10\", \"Topic10\", \"Topic10\", \"Topic10\", \"Topic10\", \"Topic10\", \"Topic10\", \"Topic10\", \"Topic10\", \"Topic10\", \"Topic10\", \"Topic10\", \"Topic10\"], \"logprob\": [30.0, 29.0, 28.0, 27.0, 26.0, 25.0, 24.0, 23.0, 22.0, 21.0, 20.0, 19.0, 18.0, 17.0, 16.0, 15.0, 14.0, 13.0, 12.0, 11.0, 10.0, 9.0, 8.0, 7.0, 6.0, 5.0, 4.0, 3.0, 2.0, 1.0, -2.366, -3.553, -3.6595, -4.0683, -4.0873, -4.0964, -4.3305, -4.4787, -4.5993, -4.7487, -4.8585, -4.9996, -5.0259, -5.0777, -5.1924, -5.1992, -5.3177, -5.3465, -5.4097, -5.4287, -5.4893, -5.5251, -5.5873, -5.6355, -5.6447, -5.6516, -5.6985, -5.7298, -5.7681, -5.8303, -2.5404, -3.2352, -3.2995, -3.2588, -4.2702, -2.3934, -2.264, -2.9272, -4.2996, -4.2622, -4.1565, -4.5415, -4.6383, -4.8089, -4.8477, -4.9354, -2.1571, -3.446, -3.7256, -3.73, -3.8067, -3.8735, -4.0766, -4.3636, -4.4607, -4.6596, -4.8219, -4.9404, -5.0316, -5.1438, -5.1712, -5.2012, -5.202, -5.3106, -5.3223, -5.4265, -5.4346, -5.5476, -5.553, -5.5568, -5.6254, -5.6706, -5.7004, -5.7977, -5.8039, -5.8158, -2.9098, -1.5484, -3.3626, -2.7568, -4.3073, -4.0925, -4.2445, -4.7399, -4.3609, -4.6131, -4.7542, -4.9698, -5.1968, -2.8181, -3.0106, -3.0542, -3.2018, -3.2961, -3.5469, -3.6129, -4.0199, -4.2724, -4.3009, -4.4213, -4.5466, -4.6218, -4.6503, -4.6796, -4.8135, -4.8508, -4.8816, -5.0431, -5.0557, -5.2976, -5.3249, -5.3515, -5.3535, -5.3669, -5.4675, -5.4782, -5.5566, -5.5567, -5.5972, -2.7356, -2.8278, -4.3875, -4.2368, -3.4791, -2.6499, -3.4311, -5.079, -4.7668, -4.5514, -4.8401, -4.8038, -4.9789, -2.1315, -2.5598, -2.6398, -3.5498, -4.0468, -4.0505, -4.176, -4.3422, -4.3652, -4.5605, -4.5639, -4.5689, -4.6107, -4.6126, -4.7379, -4.7443, -4.8593, -4.886, -4.9908, -4.9917, -5.0032, -5.0378, -5.0547, -5.1356, -5.1686, -5.2091, -5.2465, -5.2511, -5.2719, -5.4742, -4.8232, -2.3914, -4.626, -3.7225, -2.8893, -3.6301, -4.2774, -4.6023, -4.3648, -4.8078, -4.8685, -4.877, -2.0157, -2.5378, -2.7287, -2.9602, -3.1724, -3.8031, -4.0076, -4.0712, -4.2006, -4.5136, -4.5373, -4.5739, -4.685, -4.707, -4.7722, -4.8386, -4.9228, -5.0, -5.0496, -5.0571, -5.107, -5.2538, -5.2557, -5.2986, -5.4706, -5.4783, -5.5098, -5.516, -5.5225, -5.5234, -3.8015, -4.2512, -4.5612, -4.8616, -4.5642, -3.7507, -4.2458, -3.5806, -3.4347, -4.2442, -4.3787, -4.736, -4.6866, -4.7581, -4.7742, -2.0365, -2.538, -2.9426, -3.5315, -3.6855, -3.8737, -3.9062, -4.1455, -4.2356, -4.3837, -4.517, -4.6007, -4.6008, -4.7303, -4.7309, -4.7498, -4.759, -4.7951, -4.8552, -4.8824, -4.9363, -4.9801, -4.9964, -5.0091, -5.0346, -5.0788, -5.0932, -5.1802, -5.2009, -5.2261, -3.4697, -4.7813, -2.5441, -2.8577, -3.8622, -4.0146, -4.1758, -4.5837, -2.1177, -2.3773, -2.6625, -3.83, -3.988, -4.0128, -4.0492, -4.2279, -4.3617, -4.534, -4.6855, -4.741, -4.7716, -4.8116, -4.8293, -4.8701, -4.9636, -4.9937, -5.1463, -5.2258, -5.2371, -5.3224, -5.46, -5.5384, -5.5621, -5.616, -5.6339, -5.6734, -5.7352, -5.7487, -2.6477, -3.0919, -2.8262, -4.1062, -4.4307, -4.1813, -3.2026, -4.2796, -4.5205, -4.4003, -4.7924, -4.7884, -2.1239, -2.3204, -2.8464, -3.947, -4.1065, -4.1671, -4.2809, -4.3302, -4.4753, -4.5428, -4.6532, -4.6995, -4.7247, -4.7763, -4.7846, -4.8635, -4.9123, -4.9851, -5.0184, -5.0947, -5.1862, -5.2603, -5.2821, -5.377, -5.3841, -5.4426, -5.5313, -5.5422, -5.5507, -5.6012, -3.389, -4.3602, -4.4096, -3.639, -3.6516, -2.0883, -4.2935, -4.3815, -4.8277, -4.3712, -4.7703, -4.8412, -2.1678, -2.4794, -2.5503, -3.2896, -3.6577, -3.9437, -4.2448, -4.4045, -4.4202, -4.4691, -4.486, -4.5837, -4.6972, -4.7739, -4.8533, -4.9212, -5.0156, -5.1243, -5.1714, -5.1881, -5.24, -5.41, -5.4462, -5.4491, -5.4676, -5.4911, -5.5218, -5.5355, -5.6566, -5.6856, -3.8966, -3.6239, -2.5255, -4.4343, -3.6335, -4.1195, -3.1381, -4.4139, -4.4988, -5.2128, -1.8691, -3.0983, -3.1899, -3.3351, -3.4056, -3.6887, -3.872, -3.9059, -4.0602, -4.2741, -4.2923, -4.4019, -4.5247, -4.5685, -4.569, -4.5735, -4.6144, -4.6272, -4.6693, -4.7762, -4.7859, -4.8281, -4.8628, -4.8698, -4.9232, -4.9406, -5.1143, -5.1625, -5.3961, -5.4194, -2.7422, -3.0496, -3.6754, -3.3728, -3.8559, -4.3401], \"loglift\": [30.0, 29.0, 28.0, 27.0, 26.0, 25.0, 24.0, 23.0, 22.0, 21.0, 20.0, 19.0, 18.0, 17.0, 16.0, 15.0, 14.0, 13.0, 12.0, 11.0, 10.0, 9.0, 8.0, 7.0, 6.0, 5.0, 4.0, 3.0, 2.0, 1.0, 2.006, 2.0057, 2.0057, 2.0054, 2.0054, 2.0054, 2.0052, 2.0051, 2.005, 2.0048, 2.0047, 2.0044, 2.0044, 2.0043, 2.0041, 2.0041, 2.0038, 2.0038, 2.0036, 2.0036, 2.0034, 2.0033, 2.0031, 2.003, 2.003, 2.0029, 2.0028, 2.0027, 2.0026, 2.0023, 1.8182, 1.8322, 1.6586, 1.616, 1.7509, 1.3743, 0.4063, 0.0665, 1.0611, 0.5689, 0.3098, 0.6712, 0.7662, 0.3378, -0.1103, 0.3882, 2.1729, 2.1726, 2.1725, 2.1725, 2.1724, 2.1724, 2.1722, 2.172, 2.1719, 2.1716, 2.1714, 2.1712, 2.171, 2.1708, 2.1707, 2.1706, 2.1706, 2.1703, 2.1703, 2.17, 2.17, 2.1696, 2.1696, 2.1696, 2.1694, 2.1692, 2.1691, 2.1687, 2.1686, 2.1686, 1.9671, 1.122, 1.4685, 0.2368, 0.9122, 0.3738, 0.5252, 0.978, 0.3765, 0.7104, 0.5936, 0.2886, 0.983, 2.2437, 2.2436, 2.2436, 2.2435, 2.2435, 2.2434, 2.2434, 2.2431, 2.2429, 2.2429, 2.2427, 2.2426, 2.2425, 2.2424, 2.2424, 2.2422, 2.2421, 2.2421, 2.2417, 2.2417, 2.2411, 2.241, 2.241, 2.2409, 2.2409, 2.2406, 2.2406, 2.2403, 2.2403, 2.2401, 2.027, 1.9019, 2.0204, 1.9614, 1.6728, 0.0205, 0.3366, 1.9583, 1.6275, 0.4067, 0.5644, -0.3375, 1.1432, 2.2468, 2.2467, 2.2467, 2.2464, 2.2461, 2.2461, 2.246, 2.2458, 2.2458, 2.2456, 2.2456, 2.2456, 2.2455, 2.2455, 2.2453, 2.2453, 2.2451, 2.2451, 2.2449, 2.2449, 2.2448, 2.2448, 2.2447, 2.2445, 2.2445, 2.2444, 2.2443, 2.2442, 2.2442, 2.2436, 2.0226, 0.279, 1.799, 1.0072, 0.1043, 0.1376, 0.7225, 1.2589, 0.51, -0.3414, 0.2834, 0.2697, 2.2774, 2.2774, 2.2773, 2.2773, 2.2772, 2.2769, 2.2767, 2.2767, 2.2766, 2.2762, 2.2762, 2.2761, 2.276, 2.276, 2.2758, 2.2757, 2.2756, 2.2754, 2.2753, 2.2753, 2.2752, 2.2748, 2.2748, 2.2747, 2.2741, 2.2741, 2.274, 2.274, 2.274, 2.274, 1.9164, 2.0069, 2.0357, 2.047, 1.8944, 1.5076, 1.0777, 0.187, -0.4411, 0.5255, 0.3588, 1.2334, 0.4653, 0.073, -0.3079, 2.3835, 2.3834, 2.3833, 2.383, 2.3829, 2.3828, 2.3828, 2.3826, 2.3825, 2.3823, 2.3821, 2.382, 2.382, 2.3818, 2.3818, 2.3817, 2.3817, 2.3817, 2.3815, 2.3815, 2.3814, 2.3813, 2.3812, 2.3812, 2.3811, 2.381, 2.381, 2.3807, 2.3807, 2.3806, 1.891, 2.1872, 0.1263, 0.1359, 0.8752, 0.748, 0.7011, 0.3744, 2.3992, 2.3992, 2.3991, 2.3986, 2.3984, 2.3984, 2.3984, 2.3982, 2.398, 2.3978, 2.3975, 2.3974, 2.3974, 2.3973, 2.3973, 2.3972, 2.397, 2.3969, 2.3965, 2.3963, 2.3962, 2.3959, 2.3955, 2.3951, 2.395, 2.3948, 2.3947, 2.3945, 2.3942, 2.3942, 2.1034, 2.1391, 1.9436, 1.8844, 1.6915, 1.0771, -0.2089, 0.5516, 0.6922, 0.3371, 0.3543, -0.3221, 2.4119, 2.4119, 2.4118, 2.4112, 2.411, 2.411, 2.4108, 2.4108, 2.4106, 2.4105, 2.4103, 2.4102, 2.4102, 2.4101, 2.41, 2.4099, 2.4098, 2.4096, 2.4095, 2.4093, 2.4091, 2.4088, 2.4088, 2.4084, 2.4084, 2.4082, 2.4078, 2.4078, 2.4077, 2.4075, 1.8237, 2.0197, 2.0309, 1.7655, 1.6962, 0.9053, 0.9375, 0.4934, 1.3521, 0.0951, 0.3816, 0.4823, 2.4897, 2.4897, 2.4897, 2.4894, 2.4892, 2.489, 2.4886, 2.4884, 2.4884, 2.4883, 2.4883, 2.4881, 2.4879, 2.4878, 2.4876, 2.4874, 2.4872, 2.4869, 2.4868, 2.4867, 2.4865, 2.4859, 2.4858, 2.4858, 2.4857, 2.4856, 2.4854, 2.4854, 2.4848, 2.4847, 2.2944, 1.1272, 0.1449, 1.5674, 0.725, 1.0272, -0.1445, 0.6534, -0.0325, -0.4754, 2.5034, 2.5031, 2.5031, 2.503, 2.503, 2.5028, 2.5027, 2.5026, 2.5025, 2.5022, 2.5022, 2.5021, 2.5019, 2.5018, 2.5018, 2.5018, 2.5017, 2.5017, 2.5016, 2.5014, 2.5014, 2.5013, 2.5012, 2.5012, 2.5011, 2.501, 2.5006, 2.5004, 2.4996, 2.4995, 2.2577, 2.1699, 0.7909, -0.3792, -0.0882, 0.3973]}, \"token.table\": {\"Topic\": [2, 5, 7, 10, 6, 9, 3, 8, 10, 6, 2, 2, 7, 2, 8, 3, 2, 10, 8, 6, 9, 5, 2, 1, 2, 4, 8, 4, 2, 8, 6, 1, 4, 9, 4, 3, 3, 3, 9, 7, 5, 10, 1, 5, 3, 9, 2, 5, 5, 8, 7, 5, 9, 3, 7, 8, 2, 4, 1, 2, 9, 4, 1, 5, 1, 4, 8, 7, 6, 9, 10, 5, 1, 1, 2, 1, 7, 1, 8, 3, 9, 9, 1, 3, 4, 6, 1, 1, 2, 5, 7, 4, 3, 5, 7, 2, 5, 7, 4, 2, 9, 1, 1, 2, 1, 4, 8, 2, 6, 1, 8, 2, 6, 4, 10, 5, 8, 3, 10, 5, 6, 9, 1, 2, 4, 5, 7, 8, 9, 5, 7, 4, 6, 1, 6, 7, 8, 2, 3, 4, 6, 8, 10, 2, 10, 1, 2, 3, 5, 6, 7, 9, 10, 1, 10, 9, 6, 3, 9, 9, 3, 3, 4, 5, 8, 2, 7, 8, 10, 4, 8, 3, 8, 4, 1, 2, 3, 4, 6, 9, 1, 2, 4, 5, 6, 7, 8, 9, 10, 9, 2, 8, 2, 1, 2, 3, 3, 7, 1, 3, 4, 3, 5, 8, 1, 2, 6, 3, 4, 7, 10, 1, 7, 9, 1, 2, 4, 5, 7, 10, 9, 6, 4, 4, 4, 6, 3, 9, 8, 10, 5, 4, 10, 10, 10, 9, 5, 5, 5, 5, 10, 9, 4, 5, 7, 9, 1, 1, 3, 8, 2, 5, 1, 3, 4, 5, 10, 4, 7, 9, 1, 7, 8, 8, 8, 4, 4, 5, 7, 5, 3, 5, 4, 10, 3, 3, 10, 6, 2, 7, 1, 2, 3, 4, 5, 7, 8, 9, 10, 10, 6, 7, 5, 9, 3, 7, 8, 1, 5, 5, 5, 4, 4, 8, 10, 4, 8, 2, 10, 7, 4, 5, 6, 4, 5, 10, 2, 4, 8, 10, 8, 9, 9, 1, 1, 6, 3, 10, 5, 4, 9, 5, 8, 9, 3, 8, 1, 3, 5, 8, 4, 8, 10, 7, 6, 8, 7, 7, 2, 6, 1, 9, 3, 2, 10, 9, 3, 10, 10, 8, 6, 8, 7, 1, 10, 6, 7, 8, 10, 7, 4, 8, 1, 2, 8, 7, 2, 3, 7, 8, 7, 3, 2, 2, 5, 7, 6, 1, 6, 10, 9, 10, 2, 6, 9, 7, 2, 1, 1, 10, 10, 4, 4, 4, 1, 2, 5, 8, 10, 5, 6, 2, 6, 3, 6, 1, 3, 6, 6, 5, 1, 1, 6, 9, 1, 6, 10, 3, 7, 6, 3, 2, 9, 3, 9, 3, 7, 6, 5, 8, 8, 2, 3, 2, 1, 9, 4, 4, 3, 8, 7, 5, 3, 6, 1, 9, 7, 8, 2], \"Freq\": [0.151950751118196, 0.4630433382840499, 0.2663827982565905, 0.11818391753637467, 0.9985526209155731, 0.9985296020980254, 0.7519296433455038, 0.24632177971663055, 0.9981140195923325, 0.9978846300883211, 0.9961270217871586, 0.9970579329425532, 0.9954089945572651, 0.9977696623056633, 0.9992105192081389, 0.9957543423100558, 0.9996157829862365, 0.9979683822827446, 0.9964947344063052, 0.9995245318107003, 0.9989946490675531, 0.9975427436647736, 0.9979208305083437, 0.17233257574955183, 0.20618361741464236, 0.132326799236263, 0.48895949071797445, 0.99677678649846, 0.9992120509609566, 0.994277774498186, 0.9988822322813957, 0.9965899902822797, 0.9988069375448247, 0.9991217624146097, 0.9986550992881212, 0.99961055759315, 0.9997926375093493, 0.9984926327732738, 0.9989321516855642, 0.997857365371811, 0.9997285283791734, 0.9970599376801349, 0.9967298171874247, 0.994656685125881, 0.17718320724574538, 0.8223525538087285, 0.9974456761844379, 0.9981119838852518, 0.9957918131339906, 0.9981262525108517, 0.9983087477704284, 0.9987616333584126, 0.9997655648130748, 0.9985424111688515, 0.9966740290366074, 0.9971457328082479, 0.9995553387606824, 0.9976719539142064, 0.9991491151479756, 0.9993986446792105, 0.9987740074664011, 0.9968527524124619, 0.9987646095620184, 0.9971268918599768, 0.9948999750376423, 0.9984843630030126, 0.9982837886796947, 0.9989905358559955, 0.8211927620146502, 0.17634034047472488, 0.9971227101494031, 0.9996250978963995, 0.9990595533810891, 0.9989603131883644, 0.997937985762708, 0.9997999771108695, 0.9971097621447443, 0.9956849436342187, 0.9992847505886986, 0.9997015533648256, 0.9954218228072907, 0.9982467136459158, 0.26968179397075825, 0.5403371684251654, 0.18984819431154462, 0.9964611628575677, 0.9966302683213255, 0.23760460183799736, 0.4943807337813782, 0.1103382743299198, 0.15765524224958966, 0.9977989454595527, 0.9960347889126782, 0.9975840474236143, 0.9984909084047957, 0.19238380006148784, 0.17339477094275674, 0.6339266791657201, 0.9995487743680592, 0.9985119960187548, 0.9952179820776114, 0.9986012706280182, 0.9984077801326654, 0.9970177127435673, 0.6768813345076842, 0.1759848858367476, 0.14679610937229914, 0.9956450435420512, 0.9977263222328554, 0.9978928302861968, 0.9963495653515722, 0.9986377516167293, 0.9968700341011028, 0.21778259328409988, 0.7820374940656314, 0.31611696594440497, 0.6832205392991978, 0.9958403902563449, 0.9991648296655103, 0.9957252841796816, 0.9997530700757387, 0.9948155262503423, 0.18847386080009437, 0.10318524426592704, 0.13841923011282894, 0.12359858527246545, 0.1294709162469491, 0.08500898172585859, 0.23153762127964114, 0.9996843706335904, 0.9981563097027881, 0.9983536556069991, 0.9976462296579744, 0.9978694403711422, 0.999699943416232, 0.9988524624242533, 0.9998546578819084, 0.1165516941007105, 0.12969232627873178, 0.372508355655212, 0.1348343127831749, 0.16911422281279564, 0.07712979756664666, 0.9978322327325759, 0.9965550391170183, 0.12052404943567831, 0.16583663504785937, 0.045126878294098345, 0.14670878128534032, 0.2211774158365067, 0.12720951288665583, 0.051626634426993175, 0.12163829334417456, 0.9982387315165585, 0.9995556273714655, 0.9965094146995007, 0.999899822229598, 0.9994626512203972, 0.9999231937153772, 0.9987820791262173, 0.9968630824725478, 0.5649469118668192, 0.14025298956295662, 0.1633005750222, 0.13125880987154456, 0.9954294064240445, 0.9947417175391821, 0.9963753746899828, 0.998618323842137, 0.9989599302064478, 0.996573729604783, 0.9995113835846703, 0.9975253124746406, 0.9969042434994577, 0.20195541242089401, 0.34957346728131944, 0.10825167340982636, 0.1397447785703056, 0.10463231654809964, 0.09584244988390618, 0.14375080020423514, 0.1442378709074345, 0.11735156809083032, 0.06594937321319214, 0.1056618712140459, 0.07364509032374188, 0.22161716995570474, 0.07176175027137106, 0.05598065948771208, 0.9996973158560236, 0.9942425139491017, 0.997930625336168, 0.9960667001244308, 0.9956529077679824, 0.24569785803251548, 0.7539002679694775, 0.9978567997390057, 0.9998162011318099, 0.9997244345102928, 0.9975633598246202, 0.9999325019145031, 0.9961081058998563, 0.7857371380097546, 0.21342480683421258, 0.9979606677618331, 0.996344761032368, 0.995845378223013, 0.7104208212046909, 0.28951260962712566, 0.9958551667656617, 0.9989778542209387, 0.9968981939917422, 0.9982573066695402, 0.9950346371455391, 0.14960541619723136, 0.1457857034432595, 0.12095757054244237, 0.35205019215774014, 0.12923361484271476, 0.10185900677258304, 0.9971211768066025, 0.9978252188243185, 0.9986375864870087, 0.9993875066455845, 0.996840830000008, 0.9982040134088754, 0.9969480267247901, 0.99619435649205, 0.9989620769622544, 0.9992621243478187, 0.9981778809901944, 0.9984647313952719, 0.9977539492886622, 0.9962344831447779, 0.9994205763015168, 0.995116667894082, 0.9963567157135228, 0.9986928401132573, 0.9998179540061343, 0.9996849206936603, 0.9986283552630676, 0.9944842061675624, 0.1545161195180796, 0.2610336146752238, 0.1867343742261047, 0.39779681833377933, 0.9984373935424885, 0.2894851251994463, 0.18635604934714356, 0.5239680766109979, 0.302472831118002, 0.6970241345567051, 0.5316468212837129, 0.14850902597183452, 0.12132814212872017, 0.12365189644691389, 0.07492347256236696, 0.9982768530500861, 0.7438778821627605, 0.2560551555913324, 0.2631564455502438, 0.18131210266628603, 0.555286983289334, 0.9984292274797167, 0.9971481666115435, 0.9990126333918563, 0.9982598280374022, 0.9988284083717198, 0.999818496093387, 0.9980285711637402, 0.9994871136273541, 0.9958553310262575, 0.9982203728749243, 0.9985750946247072, 0.9994538343908989, 0.9986696215891993, 0.9973123055446742, 0.9989616521780085, 0.9983724722159303, 0.9952447797275421, 0.18338299763872393, 0.16539871910581433, 0.0756189349336514, 0.07519410945649606, 0.07533571794888118, 0.06584794895907847, 0.09855951070004004, 0.0802920151823602, 0.18040921929863651, 0.9987261098998077, 0.9970270471732473, 0.9997288107215324, 0.7946767596346931, 0.2051829338401052, 0.20741119625299936, 0.5975262989232176, 0.19505755133510913, 0.9998232622243578, 0.9992523038137704, 0.9991691478498378, 0.9982307209941254, 0.9994587599460508, 0.998714345142166, 0.998863282805664, 0.9981507587571594, 0.7998233717264163, 0.20033816767908322, 0.9992727835895149, 0.9995095001352281, 0.9982255346954371, 0.999763674738897, 0.9997099866422652, 0.9978781654816621, 0.31770989613511563, 0.6821418358195129, 0.998802941238374, 0.17970683019521735, 0.6385114190176437, 0.18071077896725768, 0.9984466061139137, 0.999887380204067, 0.9981980520081293, 0.999276607899794, 0.9980698260129979, 0.9992854480523888, 0.9985231467594486, 0.7994763042035441, 0.19937557215940235, 0.9995650179263446, 0.9983493699453625, 0.9983824121934404, 0.9977514735201661, 0.9985030185234106, 0.9985917113913272, 0.9976122757261134, 0.9956127401733622, 0.9974182225872986, 0.9989039892970377, 0.9987003334743838, 0.99817046759608, 0.3234287361297559, 0.6756493478793714, 0.9997099908454451, 0.9931494286369774, 0.9986580455749429, 0.9996916597222935, 0.999210758279644, 0.999306271853814, 0.8138499868916343, 0.18595575513709692, 0.9987065575507266, 0.9957738101198736, 0.9997454479561945, 0.2832907683658911, 0.7163467200080176, 0.9985838444024682, 0.9974735519777137, 0.9980471728588146, 0.9993430144473517, 0.9980942983025232, 0.9982777047257465, 0.9966713816465291, 0.9939009847685628, 0.7749694202763792, 0.22458023857490225, 0.9994842603865298, 0.7708947295784524, 0.22877381082991166, 0.9962572931821935, 0.9972378620408228, 0.998925593869405, 0.9978664942886039, 0.3488352846182857, 0.3040523764578301, 0.3464782894519459, 0.9991591676143798, 0.17429121026028432, 0.3330074613058198, 0.4924653770758672, 0.9972346218906711, 0.9976424176622581, 0.9985791006861496, 0.9960714916857127, 0.9958441434905314, 0.9999448620113047, 0.9943487027105185, 0.9998244672304931, 0.38860933395684133, 0.6109686854722532, 0.9986621200330381, 0.9995501811542695, 0.9991779039029882, 0.9992020960939358, 0.9971953839299921, 0.9987026728488811, 0.9979280558570665, 0.9986371090277955, 0.9970288621360753, 0.9989486417560286, 0.9970334161483007, 0.9999431210837232, 0.9988200683825714, 0.9948409920797021, 0.9968301110788003, 0.1982265615772897, 0.23159803659030145, 0.30134441936749595, 0.14516591630660106, 0.12347445754814342, 0.7630639172369118, 0.23622691424483463, 0.9999351380901902, 0.997744400481767, 0.9970509090126377, 0.9973513279451642, 0.7064915113526665, 0.1593137200297065, 0.13407361031569778, 0.998774600085316, 0.997778735935945, 0.9995618853746974, 0.9988277782635682, 0.9975532423055955, 0.9961955968875693, 0.9993684313687182, 0.9984352081367215, 0.9984389998859896, 0.9985463331996972, 0.9990766264870211, 0.9993612467898138, 0.9984314275859589, 0.9959423657950498, 0.9966417489700163, 0.9983653914788829, 0.9968015459221676, 0.9960546832162259, 0.993682455039549, 0.9982647624543566, 0.9979372492920712, 0.9968793183246007, 0.9948374438512335, 0.9991041261809297, 0.9989618213375501, 0.9970830060818059, 0.8287260076669554, 0.17126326055958713, 0.9995420081224267, 0.9997897907409119, 0.9975923266315904, 0.9931559766862248, 0.9967588714496806, 0.9970862863358472, 0.8050115387841384, 0.19482536176393983, 0.8405073739974733, 0.1593709433793611, 0.9979093265835519, 0.9974933972595368, 0.9996022643552104], \"Term\": [\"able\", \"able\", \"able\", \"able\", \"absolute\", \"active\", \"actual\", \"actual\", \"addicted\", \"addictive\", \"additional\", \"affordable\", \"afraid\", \"allergic\", \"alternative\", \"amazed\", \"amazing\", \"amazon\", \"american\", \"artificial\", \"asian\", \"authentic\", \"automatic\", \"available\", \"available\", \"available\", \"available\", \"average\", \"awesome\", \"back\", \"bad\", \"baked\", \"balanced\", \"beautiful\", \"big\", \"bitter\", \"black\", \"bland\", \"blue\", \"bodied\", \"bold\", \"bottom\", \"bright\", \"broken\", \"brown\", \"brown\", \"bulk\", \"busy\", \"calm\", \"careful\", \"celiac\", \"certain\", \"cheap\", \"chewy\", \"chinese\", \"classic\", \"clean\", \"clear\", \"close\", \"cold\", \"commercial\", \"common\", \"comparable\", \"complete\", \"complex\", \"concerned\", \"consistent\", \"convenient\", \"cool\", \"cool\", \"couple\", \"crazy\", \"creamy\", \"crisp\", \"crunch\", \"crunchy\", \"current\", \"cute\", \"daily\", \"dark\", \"darn\", \"decaf\", \"decent\", \"decent\", \"decent\", \"deep\", \"delicate\", \"delicious\", \"delicious\", \"delicious\", \"delicious\", \"delightful\", \"dense\", \"dental\", \"diabetic\", \"different\", \"different\", \"different\", \"difficult\", \"digestive\", \"direct\", \"disappointed\", \"double\", \"early\", \"easy\", \"easy\", \"easy\", \"eater\", \"economical\", \"effective\", \"empty\", \"english\", \"enjoyable\", \"enough\", \"enough\", \"entire\", \"entire\", \"equal\", \"everyday\", \"exact\", \"excellent\", \"exotic\", \"expensive\", \"expensive\", \"expensive\", \"expensive\", \"expensive\", \"expensive\", \"expensive\", \"extra\", \"fabulous\", \"fair\", \"fake\", \"fancy\", \"fantastic\", \"fast\", \"favorite\", \"fine\", \"fine\", \"fine\", \"fine\", \"fine\", \"fine\", \"finicky\", \"firm\", \"first\", \"first\", \"first\", \"first\", \"first\", \"first\", \"first\", \"first\", \"flat\", \"flavorful\", \"fluffy\", \"free\", \"french\", \"fresh\", \"frozen\", \"fructose\", \"full\", \"full\", \"full\", \"full\", \"funny\", \"fussy\", \"future\", \"garlic\", \"general\", \"german\", \"glad\", \"gluten\", \"golden\", \"good\", \"good\", \"good\", \"good\", \"good\", \"good\", \"great\", \"great\", \"great\", \"great\", \"great\", \"great\", \"great\", \"great\", \"great\", \"green\", \"greenies\", \"gross\", \"guilty\", \"gummy\", \"half\", \"half\", \"handy\", \"happy\", \"hard\", \"harsh\", \"healthy\", \"hearty\", \"heavy\", \"heavy\", \"helpful\", \"herbal\", \"hesitant\", \"high\", \"high\", \"holistic\", \"homemade\", \"honest\", \"hooked\", \"hot\", \"huge\", \"huge\", \"huge\", \"huge\", \"huge\", \"huge\", \"human\", \"hungry\", \"iced\", \"important\", \"impossible\", \"impressed\", \"incredible\", \"indian\", \"individual\", \"instant\", \"intense\", \"interested\", \"interesting\", \"irish\", \"italian\", \"japanese\", \"jerky\", \"kind\", \"large\", \"last\", \"late\", \"lazy\", \"least\", \"least\", \"least\", \"least\", \"left\", \"less\", \"less\", \"less\", \"light\", \"light\", \"little\", \"little\", \"little\", \"little\", \"little\", \"live\", \"local\", \"local\", \"long\", \"long\", \"long\", \"loose\", \"lovely\", \"low\", \"main\", \"major\", \"many\", \"mebr\", \"medium\", \"mellow\", \"messy\", \"middle\", \"mild\", \"mini\", \"minimal\", \"mixed\", \"moist\", \"monthly\", \"much\", \"much\", \"much\", \"much\", \"much\", \"much\", \"much\", \"much\", \"much\", \"multiple\", \"nasty\", \"natural\", \"negative\", \"negative\", \"next\", \"next\", \"next\", \"nice\", \"normal\", \"nutritional\", \"nutritious\", \"nuts\", \"nutty\", \"oatmeal\", \"occasional\", \"old\", \"old\", \"online\", \"open\", \"orange\", \"organic\", \"original\", \"outstanding\", \"overall\", \"overall\", \"overwhelming\", \"particular\", \"particular\", \"particular\", \"past\", \"perfect\", \"personal\", \"picky\", \"pink\", \"plain\", \"plastic\", \"pleasant\", \"pleasant\", \"pleased\", \"plenty\", \"popular\", \"positive\", \"possible\", \"powdered\", \"present\", \"pretty\", \"previous\", \"pricey\", \"prime\", \"puppy\", \"pure\", \"pure\", \"quick\", \"quite\", \"ready\", \"real\", \"reasonable\", \"refreshing\", \"regular\", \"regular\", \"resealable\", \"retail\", \"rich\", \"right\", \"right\", \"roasted\", \"robust\", \"safe\", \"salty\", \"satisfied\", \"satisfying\", \"save\", \"savory\", \"second\", \"second\", \"sensitive\", \"several\", \"several\", \"severe\", \"shiny\", \"short\", \"sick\", \"similar\", \"similar\", \"similar\", \"simple\", \"single\", \"single\", \"single\", \"sized\", \"skeptical\", \"slight\", \"slim\", \"slow\", \"small\", \"smart\", \"smooth\", \"soft\", \"soft\", \"solid\", \"sour\", \"special\", \"spicy\", \"splenda\", \"stale\", \"standard\", \"steep\", \"sticky\", \"straight\", \"strange\", \"strong\", \"subtle\", \"sugary\", \"super\", \"sure\", \"sure\", \"sure\", \"sure\", \"sure\", \"surprised\", \"surprised\", \"sweet\", \"tangy\", \"tart\", \"tasted\", \"tasty\", \"tasty\", \"tasty\", \"terrible\", \"terrific\", \"thick\", \"thin\", \"third\", \"timely\", \"tiny\", \"tired\", \"total\", \"tough\", \"traditional\", \"true\", \"typical\", \"unable\", \"unhealthy\", \"unique\", \"unpleasant\", \"upset\", \"useful\", \"usual\", \"various\", \"vegetarian\", \"versatile\", \"warm\", \"weak\", \"weird\", \"well\", \"well\", \"white\", \"whole\", \"wholesome\", \"wide\", \"wild\", \"willing\", \"wonderful\", \"wonderful\", \"worth\", \"worth\", \"yellow\", \"young\", \"yummy\"]}, \"R\": 30, \"lambda.step\": 0.01, \"plot.opts\": {\"xlab\": \"PC1\", \"ylab\": \"PC2\"}, \"topic.order\": [1, 9, 10, 6, 2, 5, 7, 8, 3, 4]};\n",
       "\n",
       "function LDAvis_load_lib(url, callback){\n",
       "  var s = document.createElement('script');\n",
       "  s.src = url;\n",
       "  s.async = true;\n",
       "  s.onreadystatechange = s.onload = callback;\n",
       "  s.onerror = function(){console.warn(\"failed to load library \" + url);};\n",
       "  document.getElementsByTagName(\"head\")[0].appendChild(s);\n",
       "}\n",
       "\n",
       "if(typeof(LDAvis) !== \"undefined\"){\n",
       "   // already loaded: just create the visualization\n",
       "   !function(LDAvis){\n",
       "       new LDAvis(\"#\" + \"ldavis_el82571140345263353728553629493\", ldavis_el82571140345263353728553629493_data);\n",
       "   }(LDAvis);\n",
       "}else if(typeof define === \"function\" && define.amd){\n",
       "   // require.js is available: use it to load d3/LDAvis\n",
       "   require.config({paths: {d3: \"https://d3js.org/d3.v5\"}});\n",
       "   require([\"d3\"], function(d3){\n",
       "      window.d3 = d3;\n",
       "      LDAvis_load_lib(\"https://cdn.jsdelivr.net/gh/bmabey/pyLDAvis@3.4.0/pyLDAvis/js/ldavis.v3.0.0.js\", function(){\n",
       "        new LDAvis(\"#\" + \"ldavis_el82571140345263353728553629493\", ldavis_el82571140345263353728553629493_data);\n",
       "      });\n",
       "    });\n",
       "}else{\n",
       "    // require.js not available: dynamically load d3 & LDAvis\n",
       "    LDAvis_load_lib(\"https://d3js.org/d3.v5.js\", function(){\n",
       "         LDAvis_load_lib(\"https://cdn.jsdelivr.net/gh/bmabey/pyLDAvis@3.4.0/pyLDAvis/js/ldavis.v3.0.0.js\", function(){\n",
       "                 new LDAvis(\"#\" + \"ldavis_el82571140345263353728553629493\", ldavis_el82571140345263353728553629493_data);\n",
       "            })\n",
       "         });\n",
       "}\n",
       "</script>"
      ],
      "text/plain": [
       "PreparedData(topic_coordinates=              x         y  topics  cluster       Freq\n",
       "topic                                                \n",
       "0     -0.111562 -0.018864       1        1  13.451407\n",
       "8     -0.071124 -0.073647       2        1  11.383430\n",
       "9     -0.214247  0.156999       3        1  10.604562\n",
       "5     -0.123370  0.071891       4        1  10.572365\n",
       "1      0.209893  0.086509       5        1  10.253679\n",
       "4     -0.163746 -0.087374       6        1   9.221971\n",
       "6      0.262116 -0.181385       7        1   9.077848\n",
       "7      0.143945 -0.044652       8        1   8.963073\n",
       "2     -0.077156 -0.195682       9        1   8.291975\n",
       "3      0.145251  0.286205      10        1   8.179689, topic_info=       Term          Freq         Total Category  logprob  loglift\n",
       "57     good  42548.000000  42548.000000  Default  30.0000  30.0000\n",
       "165  strong   7756.000000   7756.000000  Default  29.0000  29.0000\n",
       "130   small   8397.000000   8397.000000  Default  28.0000  28.0000\n",
       "4      free   7396.000000   7396.000000  Default  27.0000  27.0000\n",
       "61    sweet   8093.000000   8093.000000  Default  26.0000  26.0000\n",
       "..      ...           ...           ...      ...      ...      ...\n",
       "203   right   2381.972828   3325.205426  Topic10  -3.0496   2.1699\n",
       "21     much   1273.874680   7061.723370  Topic10  -3.6754   0.7909\n",
       "58    great   1724.038812  30796.350307  Topic10  -3.3728  -0.3792\n",
       "118  little   1063.535690  14201.157042  Topic10  -3.8559  -0.0882\n",
       "3     first    655.342950   5384.817412  Topic10  -4.3401   0.3973\n",
       "\n",
       "[447 rows x 6 columns], token_table=      Topic      Freq      Term\n",
       "term                           \n",
       "172       2  0.151951      able\n",
       "172       5  0.463043      able\n",
       "172       7  0.266383      able\n",
       "172      10  0.118184      able\n",
       "252       6  0.998553  absolute\n",
       "...     ...       ...       ...\n",
       "102       1  0.840507     worth\n",
       "102       9  0.159371     worth\n",
       "25        7  0.997909    yellow\n",
       "536       8  0.997493     young\n",
       "342       2  0.999602     yummy\n",
       "\n",
       "[459 rows x 3 columns], R=30, lambda_step=0.01, plot_opts={'xlab': 'PC1', 'ylab': 'PC2'}, topic_order=[1, 9, 10, 6, 2, 5, 7, 8, 3, 4])"
      ]
     },
     "execution_count": 28,
     "metadata": {},
     "output_type": "execute_result"
    }
   ],
   "source": [
    "#@ Visualizing the topics\n",
    "pyLDAvis.enable_notebook()\n",
    "vis = pyLDAvis.gensim.prepare(lda_model, \n",
    "                              doc_term_matrix, \n",
    "                              dictionary)\n",
    "vis"
   ]
  },
  {
   "cell_type": "code",
   "execution_count": 29,
   "id": "871c3b52",
   "metadata": {},
   "outputs": [
    {
     "name": "stdout",
     "output_type": "stream",
     "text": [
      "\n",
      "Perplexity:  -8.067837600646321\n",
      "\n",
      "Coherence Score: 0.2975853380582823\n"
     ]
    }
   ],
   "source": [
    "print('\\nPerplexity: ', lda_model.log_perplexity(doc_term_matrix, total_docs=10000))\n",
    "\n",
    "#@ Computing the coherence score\n",
    "from gensim.models.coherencemodel import CoherenceModel\n",
    "coherence_model_lda = CoherenceModel(model=lda_model,\n",
    "                                    texts=tokenized_review,\n",
    "                                    dictionary=dictionary)\n",
    "coherence_lda = coherence_model_lda.get_coherence()\n",
    "print('\\nCoherence Score:', coherence_lda)"
   ]
  },
  {
   "cell_type": "markdown",
   "id": "9972ff98",
   "metadata": {},
   "source": [
    "**To check if the model is good or not**\n",
    "\n",
    "- Higher the `Coherence` the model is better\n",
    "- Measure of how good the model is. lower the `Perplexitya` better."
   ]
  },
  {
   "cell_type": "code",
   "execution_count": 30,
   "id": "8d43b32e",
   "metadata": {},
   "outputs": [],
   "source": [
    "def compute_coherence_values(dictionary, corpus, texts, limit, start=2, step=3):\n",
    "    '''\n",
    "    Compute c_v coherence for various number of topics\n",
    "    '''\n",
    "    coherence_values = []\n",
    "    model_list = []\n",
    "    for num_topics in range(start, limit, step):\n",
    "        model = gensim.models.ldamodel.LdaModel(corpus=corpus, \n",
    "                                                num_topics=num_topics, \n",
    "                                                id2word=dictionary)\n",
    "        model_list.append(model)\n",
    "        coherencemodel = CoherenceModel(model=model, texts=texts, \n",
    "                                        dictionary=dictionary, \n",
    "                                        coherence='c_v')\n",
    "        coherence_values.append(coherencemodel.get_coherence())\n",
    "    return model_list, coherence_values"
   ]
  },
  {
   "cell_type": "code",
   "execution_count": 31,
   "id": "84864171",
   "metadata": {},
   "outputs": [],
   "source": [
    "# model_list, coherence_values = compute_coherence_values(dictionary=dictionary, corpus=doc_term_matrix, texts=tokenized_reviews, start=2, limit=50, step=1)\n",
    "\n",
    "model_list, coherence_values = compute_coherence_values(dictionary=dictionary,\n",
    "                                                       corpus=doc_term_matrix,\n",
    "                                                       texts=tokenized_review,\n",
    "                                                       start=2,\n",
    "                                                       limit=50,\n",
    "                                                       step=1)"
   ]
  },
  {
   "cell_type": "code",
   "execution_count": 32,
   "id": "e6eca42e",
   "metadata": {},
   "outputs": [
    {
     "data": {
      "image/png": "[encoded data removed]",
      "text/plain": [
       "<Figure size 640x480 with 1 Axes>"
      ]
     },
     "metadata": {},
     "output_type": "display_data"
    }
   ],
   "source": [
    "#@ Plotting the graph\n",
    "limit = 50; start = 2; step = 1;\n",
    "\n",
    "x = range(start, limit, step)\n",
    "plt.plot(x, coherence_values)\n",
    "plt.xlabel(\"Num Topics\")\n",
    "plt.ylabel(\"Coherence Score\")\n",
    "plt.legend((\"Coherence Values\"), loc='best')\n",
    "plt.show()"
   ]
  },
  {
   "cell_type": "code",
   "execution_count": 33,
   "id": "10bd05e5",
   "metadata": {},
   "outputs": [
    {
     "name": "stdout",
     "output_type": "stream",
     "text": [
      "Num Topics =  2 has Coherence Value of 0.3207\n",
      "Num Topics =  3 has Coherence Value of 0.3278\n",
      "Num Topics =  4 has Coherence Value of 0.3166\n",
      "Num Topics =  5 has Coherence Value of 0.3463\n",
      "Num Topics =  6 has Coherence Value of 0.3119\n",
      "Num Topics =  7 has Coherence Value of 0.3338\n",
      "Num Topics =  8 has Coherence Value of 0.3358\n",
      "Num Topics =  9 has Coherence Value of 0.3009\n",
      "Num Topics =  10 has Coherence Value of 0.3081\n",
      "Num Topics =  11 has Coherence Value of 0.2929\n",
      "Num Topics =  12 has Coherence Value of 0.2896\n",
      "Num Topics =  13 has Coherence Value of 0.2874\n",
      "Num Topics =  14 has Coherence Value of 0.2761\n",
      "Num Topics =  15 has Coherence Value of 0.2677\n",
      "Num Topics =  16 has Coherence Value of 0.2624\n",
      "Num Topics =  17 has Coherence Value of 0.2568\n",
      "Num Topics =  18 has Coherence Value of 0.2411\n",
      "Num Topics =  19 has Coherence Value of 0.2555\n",
      "Num Topics =  20 has Coherence Value of 0.2574\n",
      "Num Topics =  21 has Coherence Value of 0.2642\n",
      "Num Topics =  22 has Coherence Value of 0.2576\n",
      "Num Topics =  23 has Coherence Value of 0.2597\n",
      "Num Topics =  24 has Coherence Value of 0.2683\n",
      "Num Topics =  25 has Coherence Value of 0.2958\n",
      "Num Topics =  26 has Coherence Value of 0.2793\n",
      "Num Topics =  27 has Coherence Value of 0.2843\n",
      "Num Topics =  28 has Coherence Value of 0.3063\n",
      "Num Topics =  29 has Coherence Value of 0.3128\n",
      "Num Topics =  30 has Coherence Value of 0.313\n",
      "Num Topics =  31 has Coherence Value of 0.354\n",
      "Num Topics =  32 has Coherence Value of 0.4031\n",
      "Num Topics =  33 has Coherence Value of 0.3519\n",
      "Num Topics =  34 has Coherence Value of 0.3459\n",
      "Num Topics =  35 has Coherence Value of 0.3708\n",
      "Num Topics =  36 has Coherence Value of 0.3967\n",
      "Num Topics =  37 has Coherence Value of 0.3677\n",
      "Num Topics =  38 has Coherence Value of 0.4102\n",
      "Num Topics =  39 has Coherence Value of 0.3804\n",
      "Num Topics =  40 has Coherence Value of 0.3843\n",
      "Num Topics =  41 has Coherence Value of 0.4039\n",
      "Num Topics =  42 has Coherence Value of 0.4301\n",
      "Num Topics =  43 has Coherence Value of 0.4384\n",
      "Num Topics =  44 has Coherence Value of 0.4591\n",
      "Num Topics =  45 has Coherence Value of 0.4134\n",
      "Num Topics =  46 has Coherence Value of 0.4628\n",
      "Num Topics =  47 has Coherence Value of 0.4565\n",
      "Num Topics =  48 has Coherence Value of 0.4006\n",
      "Num Topics =  49 has Coherence Value of 0.4389\n"
     ]
    }
   ],
   "source": [
    "#@ Printing the coherence score\n",
    "for m, cv in zip(x, coherence_values):\n",
    "    print(\"Num Topics = \", m, \"has Coherence Value of\", round(cv, 4))"
   ]
  },
  {
   "cell_type": "code",
   "execution_count": 34,
   "id": "03b055a5",
   "metadata": {},
   "outputs": [
    {
     "data": {
      "text/plain": [
       "[(0,\n",
       "  '0.080*\"regular\" + 0.051*\"good\" + 0.050*\"able\" + 0.039*\"great\" + 0.033*\"white\" + 0.029*\"clean\" + 0.026*\"fantastic\" + 0.024*\"special\" + 0.024*\"single\" + 0.021*\"thick\"'),\n",
       " (1,\n",
       "  '0.094*\"whole\" + 0.057*\"black\" + 0.049*\"available\" + 0.042*\"crunchy\" + 0.032*\"awesome\" + 0.031*\"salty\" + 0.027*\"little\" + 0.027*\"delicious\" + 0.025*\"plain\" + 0.023*\"nuts\"'),\n",
       " (2,\n",
       "  '0.103*\"free\" + 0.070*\"strong\" + 0.049*\"good\" + 0.045*\"dark\" + 0.039*\"favorite\" + 0.027*\"mild\" + 0.024*\"happy\" + 0.022*\"french\" + 0.020*\"bitter\" + 0.017*\"weak\"'),\n",
       " (3,\n",
       "  '0.085*\"good\" + 0.065*\"fresh\" + 0.050*\"great\" + 0.041*\"wonderful\" + 0.039*\"rich\" + 0.036*\"full\" + 0.032*\"amazing\" + 0.031*\"bold\" + 0.027*\"much\" + 0.026*\"easy\"'),\n",
       " (4,\n",
       "  '0.111*\"nice\" + 0.068*\"good\" + 0.052*\"real\" + 0.046*\"great\" + 0.040*\"smooth\" + 0.035*\"little\" + 0.030*\"hard\" + 0.027*\"soft\" + 0.019*\"glad\" + 0.017*\"well\"'),\n",
       " (5,\n",
       "  '0.142*\"great\" + 0.083*\"healthy\" + 0.054*\"first\" + 0.049*\"good\" + 0.034*\"little\" + 0.030*\"large\" + 0.030*\"right\" + 0.029*\"small\" + 0.026*\"tasty\" + 0.026*\"well\"'),\n",
       " (6,\n",
       "  '0.102*\"green\" + 0.097*\"delicious\" + 0.060*\"less\" + 0.033*\"open\" + 0.032*\"half\" + 0.030*\"difficult\" + 0.030*\"great\" + 0.027*\"simple\" + 0.025*\"good\" + 0.019*\"fast\"'),\n",
       " (7,\n",
       "  '0.176*\"good\" + 0.054*\"local\" + 0.054*\"organic\" + 0.048*\"great\" + 0.042*\"high\" + 0.029*\"happy\" + 0.024*\"cheap\" + 0.022*\"well\" + 0.021*\"little\" + 0.020*\"expensive\"'),\n",
       " (8,\n",
       "  '0.142*\"sweet\" + 0.088*\"perfect\" + 0.067*\"natural\" + 0.051*\"good\" + 0.037*\"great\" + 0.034*\"little\" + 0.021*\"artificial\" + 0.020*\"spicy\" + 0.020*\"original\" + 0.017*\"small\"')]"
      ]
     },
     "execution_count": 34,
     "metadata": {},
     "output_type": "execute_result"
    }
   ],
   "source": [
    "#@ Selecting the model and print the topcis\n",
    "optimal_model = model_list[7]\n",
    "model_topics = optimal_model.show_topics(formatted=False)\n",
    "optimal_model.print_topics(num_words=10)"
   ]
  },
  {
   "cell_type": "code",
   "execution_count": 35,
   "id": "ed33518b",
   "metadata": {},
   "outputs": [
    {
     "ename": "NameError",
     "evalue": "name 'optmial_model' is not defined",
     "output_type": "error",
     "traceback": [
      "\u001b[0;31m---------------------------------------------------------------------------\u001b[0m",
      "\u001b[0;31mNameError\u001b[0m                                 Traceback (most recent call last)",
      "\u001b[0;32m/tmp/ipykernel_82571/2214606752.py\u001b[0m in \u001b[0;36m<module>\u001b[0;34m\u001b[0m\n\u001b[1;32m      1\u001b[0m \u001b[0;31m#@ Visualzing the topics\u001b[0m\u001b[0;34m\u001b[0m\u001b[0;34m\u001b[0m\u001b[0m\n\u001b[1;32m      2\u001b[0m \u001b[0mpyLDAvis\u001b[0m\u001b[0;34m.\u001b[0m\u001b[0menable_notebook\u001b[0m\u001b[0;34m(\u001b[0m\u001b[0;34m)\u001b[0m\u001b[0;34m\u001b[0m\u001b[0;34m\u001b[0m\u001b[0m\n\u001b[0;32m----> 3\u001b[0;31m vis = pyLDAvis.gensim.prepare(optmial_model, \n\u001b[0m\u001b[1;32m      4\u001b[0m                              \u001b[0mdoc_term_matrix\u001b[0m\u001b[0;34m,\u001b[0m\u001b[0;34m\u001b[0m\u001b[0;34m\u001b[0m\u001b[0m\n\u001b[1;32m      5\u001b[0m                              dictionary)\n",
      "\u001b[0;31mNameError\u001b[0m: name 'optmial_model' is not defined"
     ]
    }
   ],
   "source": [
    "#@ Visualzing the topics\n",
    "pyLDAvis.enable_notebook()\n",
    "vis = pyLDAvis.gensim.prepare(optmial_model, \n",
    "                             doc_term_matrix,\n",
    "                             dictionary)\n",
    "vis"
   ]
  },
  {
   "cell_type": "markdown",
   "id": "bb150edf",
   "metadata": {},
   "source": [
    "**The End**"
   ]
  }
 ],
 "metadata": {
  "kernelspec": {
   "display_name": "Python 3 (ipykernel)",
   "language": "python",
   "name": "python3"
  },
  "language_info": {
   "codemirror_mode": {
    "name": "ipython",
    "version": 3
   },
   "file_extension": ".py",
   "mimetype": "text/x-python",
   "name": "python",
   "nbconvert_exporter": "python",
   "pygments_lexer": "ipython3",
   "version": "3.10.6"
  }
 },
 "nbformat": 4,
 "nbformat_minor": 5
}
